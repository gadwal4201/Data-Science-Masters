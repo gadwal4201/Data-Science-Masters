{
 "cells": [
  {
   "cell_type": "markdown",
   "id": "61f7515c",
   "metadata": {},
   "source": [
    "# Exception Handling"
   ]
  },
  {
   "cell_type": "code",
   "execution_count": null,
   "id": "edde7aa1",
   "metadata": {},
   "outputs": [],
   "source": [
    "a = 10"
   ]
  },
  {
   "cell_type": "code",
   "execution_count": 1,
   "id": "a2b81312",
   "metadata": {},
   "outputs": [
    {
     "ename": "NameError",
     "evalue": "name 'a' is not defined",
     "output_type": "error",
     "traceback": [
      "\u001b[1;31m---------------------------------------------------------------------------\u001b[0m",
      "\u001b[1;31mNameError\u001b[0m                                 Traceback (most recent call last)",
      "Cell \u001b[1;32mIn[1], line 1\u001b[0m\n\u001b[1;32m----> 1\u001b[0m \u001b[43ma\u001b[49m\u001b[38;5;241m/\u001b[39m\u001b[38;5;241m0\u001b[39m\n",
      "\u001b[1;31mNameError\u001b[0m: name 'a' is not defined"
     ]
    }
   ],
   "source": [
    "a/0"
   ]
  },
  {
   "cell_type": "code",
   "execution_count": 4,
   "id": "3d822a76",
   "metadata": {},
   "outputs": [
    {
     "ename": "FileNotFoundError",
     "evalue": "[Errno 2] No such file or directory: 'test5.txt'",
     "output_type": "error",
     "traceback": [
      "\u001b[1;31m---------------------------------------------------------------------------\u001b[0m",
      "\u001b[1;31mFileNotFoundError\u001b[0m                         Traceback (most recent call last)",
      "Cell \u001b[1;32mIn[4], line 1\u001b[0m\n\u001b[1;32m----> 1\u001b[0m f \u001b[38;5;241m=\u001b[39m \u001b[38;5;28;43mopen\u001b[39;49m\u001b[43m(\u001b[49m\u001b[38;5;124;43m\"\u001b[39;49m\u001b[38;5;124;43mtest5.txt\u001b[39;49m\u001b[38;5;124;43m\"\u001b[39;49m\u001b[43m,\u001b[49m\u001b[43m \u001b[49m\u001b[38;5;124;43m\"\u001b[39;49m\u001b[38;5;124;43mr\u001b[39;49m\u001b[38;5;124;43m\"\u001b[39;49m\u001b[43m)\u001b[49m\n\u001b[0;32m      2\u001b[0m \u001b[38;5;28mprint\u001b[39m(\u001b[38;5;124m\"\u001b[39m\u001b[38;5;124mThis is my file\u001b[39m\u001b[38;5;124m\"\u001b[39m)\n",
      "File \u001b[1;32m~\\AppData\\Roaming\\Python\\Python312\\site-packages\\IPython\\core\\interactiveshell.py:324\u001b[0m, in \u001b[0;36m_modified_open\u001b[1;34m(file, *args, **kwargs)\u001b[0m\n\u001b[0;32m    317\u001b[0m \u001b[38;5;28;01mif\u001b[39;00m file \u001b[38;5;129;01min\u001b[39;00m {\u001b[38;5;241m0\u001b[39m, \u001b[38;5;241m1\u001b[39m, \u001b[38;5;241m2\u001b[39m}:\n\u001b[0;32m    318\u001b[0m     \u001b[38;5;28;01mraise\u001b[39;00m \u001b[38;5;167;01mValueError\u001b[39;00m(\n\u001b[0;32m    319\u001b[0m         \u001b[38;5;124mf\u001b[39m\u001b[38;5;124m\"\u001b[39m\u001b[38;5;124mIPython won\u001b[39m\u001b[38;5;124m'\u001b[39m\u001b[38;5;124mt let you open fd=\u001b[39m\u001b[38;5;132;01m{\u001b[39;00mfile\u001b[38;5;132;01m}\u001b[39;00m\u001b[38;5;124m by default \u001b[39m\u001b[38;5;124m\"\u001b[39m\n\u001b[0;32m    320\u001b[0m         \u001b[38;5;124m\"\u001b[39m\u001b[38;5;124mas it is likely to crash IPython. If you know what you are doing, \u001b[39m\u001b[38;5;124m\"\u001b[39m\n\u001b[0;32m    321\u001b[0m         \u001b[38;5;124m\"\u001b[39m\u001b[38;5;124myou can use builtins\u001b[39m\u001b[38;5;124m'\u001b[39m\u001b[38;5;124m open.\u001b[39m\u001b[38;5;124m\"\u001b[39m\n\u001b[0;32m    322\u001b[0m     )\n\u001b[1;32m--> 324\u001b[0m \u001b[38;5;28;01mreturn\u001b[39;00m \u001b[43mio_open\u001b[49m\u001b[43m(\u001b[49m\u001b[43mfile\u001b[49m\u001b[43m,\u001b[49m\u001b[43m \u001b[49m\u001b[38;5;241;43m*\u001b[39;49m\u001b[43margs\u001b[49m\u001b[43m,\u001b[49m\u001b[43m \u001b[49m\u001b[38;5;241;43m*\u001b[39;49m\u001b[38;5;241;43m*\u001b[39;49m\u001b[43mkwargs\u001b[49m\u001b[43m)\u001b[49m\n",
      "\u001b[1;31mFileNotFoundError\u001b[0m: [Errno 2] No such file or directory: 'test5.txt'"
     ]
    }
   ],
   "source": [
    "f = open(\"test5.txt\", \"r\")\n",
    "print(\"This is my file\")"
   ]
  },
  {
   "cell_type": "code",
   "execution_count": 7,
   "id": "7d5f1715",
   "metadata": {},
   "outputs": [
    {
     "name": "stdout",
     "output_type": "stream",
     "text": [
      "This is my exception block [Errno 2] No such file or directory: 'test5.txt'\n",
      "This is my exception block division by zero\n",
      "10\n"
     ]
    }
   ],
   "source": [
    "try:\n",
    "    f = open(\"test5.txt\", \"r\")\n",
    "except Exception as e:\n",
    "    print(\"This is my exception block\", e)\n",
    "    \n",
    "try:\n",
    "    a = 10\n",
    "    a/0\n",
    "except Exception as e:\n",
    "    print(\"This is my exception block\", e)\n",
    "print(a)"
   ]
  },
  {
   "cell_type": "code",
   "execution_count": 8,
   "id": "0c957b49",
   "metadata": {},
   "outputs": [
    {
     "name": "stdout",
     "output_type": "stream",
     "text": [
      "File written successfully\n",
      "This is my else block, if try is successful then this will execute\n"
     ]
    }
   ],
   "source": [
    "try:\n",
    "    f = open(\"test5.txt\", \"w\")\n",
    "    f.write(\"Hello Sir what is your name\")\n",
    "    # f.close()\n",
    "except Exception as e:\n",
    "    print(\"This is my exception block\", e)\n",
    "else:\n",
    "    f.close()\n",
    "    print(\"File written successfully\")\n",
    "    print(\"This is my else block, if try is successful then this will execute\")"
   ]
  },
  {
   "cell_type": "code",
   "execution_count": 10,
   "id": "ee2328e0",
   "metadata": {},
   "outputs": [
    {
     "name": "stdout",
     "output_type": "stream",
     "text": [
      "This is my exception block [Errno 2] No such file or directory: 'test6.txt'\n"
     ]
    }
   ],
   "source": [
    "try:\n",
    "    f = open(\"test6.txt\", \"r\")\n",
    "    f.write(\"Hello Sir what is your name\")\n",
    "    # f.close()\n",
    "except Exception as e:\n",
    "    print(\"This is my exception block\", e)\n",
    "else:  # it runs if try block is successful\n",
    "    f.close()\n",
    "    print(\"File written successfully\")\n",
    "    print(\"This is my else block, if try is successful then this will execute\")"
   ]
  },
  {
   "cell_type": "code",
   "execution_count": 13,
   "id": "75af9adc",
   "metadata": {},
   "outputs": [
    {
     "name": "stdout",
     "output_type": "stream",
     "text": [
      "This is my finally block, it will always execute\n"
     ]
    },
    {
     "ename": "UnsupportedOperation",
     "evalue": "not writable",
     "output_type": "error",
     "traceback": [
      "\u001b[1;31m---------------------------------------------------------------------------\u001b[0m",
      "\u001b[1;31mUnsupportedOperation\u001b[0m                      Traceback (most recent call last)",
      "Cell \u001b[1;32mIn[13], line 3\u001b[0m\n\u001b[0;32m      1\u001b[0m \u001b[38;5;28;01mtry\u001b[39;00m:\n\u001b[0;32m      2\u001b[0m     f \u001b[38;5;241m=\u001b[39m \u001b[38;5;28mopen\u001b[39m(\u001b[38;5;124m\"\u001b[39m\u001b[38;5;124mtest10.txt\u001b[39m\u001b[38;5;124m\"\u001b[39m, \u001b[38;5;124m\"\u001b[39m\u001b[38;5;124mr\u001b[39m\u001b[38;5;124m\"\u001b[39m)\n\u001b[1;32m----> 3\u001b[0m     \u001b[43mf\u001b[49m\u001b[38;5;241;43m.\u001b[39;49m\u001b[43mwrite\u001b[49m\u001b[43m(\u001b[49m\u001b[38;5;124;43m\"\u001b[39;49m\u001b[38;5;124;43mHello Sir what is your name\u001b[39;49m\u001b[38;5;124;43m\"\u001b[39;49m\u001b[43m)\u001b[49m\n\u001b[0;32m      4\u001b[0m \u001b[38;5;28;01mfinally\u001b[39;00m:  \u001b[38;5;66;03m# this block will always execute, even if there is an exception\u001b[39;00m\n\u001b[0;32m      5\u001b[0m     \u001b[38;5;66;03m# f.close()\u001b[39;00m\n\u001b[0;32m      6\u001b[0m     \u001b[38;5;28mprint\u001b[39m(\u001b[38;5;124m\"\u001b[39m\u001b[38;5;124mThis is my finally block, it will always execute\u001b[39m\u001b[38;5;124m\"\u001b[39m)\n",
      "\u001b[1;31mUnsupportedOperation\u001b[0m: not writable"
     ]
    }
   ],
   "source": [
    "try:\n",
    "    f = open(\"test10.txt\", \"r\")\n",
    "    f.write(\"Hello Sir what is your name\")\n",
    "finally:  # this block will always execute, even if there is an exception\n",
    "    # f.close()\n",
    "    print(\"This is my finally block, it will always execute\")"
   ]
  },
  {
   "cell_type": "code",
   "execution_count": 14,
   "id": "a425120a",
   "metadata": {},
   "outputs": [],
   "source": [
    "# Exception Handling Blocks\n",
    "# - try: This block contains the code that might raise an exception.\n",
    "# - except: This block is executed if an exception occurs in the try block. You can specify the type of exception to catch.\n",
    "# - else: This block is executed if the try block does not raise an exception. It is optional.\n",
    "# - finally: This block is always executed, regardless of whether an exception occurred or not. It is often used for cleanup actions, such as closing files or releasing resources.\n"
   ]
  },
  {
   "cell_type": "code",
   "execution_count": 15,
   "id": "0e770342",
   "metadata": {},
   "outputs": [
    {
     "name": "stdout",
     "output_type": "stream",
     "text": [
      "This is my exception block division by zero\n"
     ]
    }
   ],
   "source": [
    "try:\n",
    "    a = 10/0\n",
    "except ZeroDivisionError as e:\n",
    "    print(\"This is my exception block\", e)"
   ]
  },
  {
   "cell_type": "code",
   "execution_count": 17,
   "id": "38a3dd75",
   "metadata": {},
   "outputs": [
    {
     "ename": "ZeroDivisionError",
     "evalue": "division by zero",
     "output_type": "error",
     "traceback": [
      "\u001b[1;31m---------------------------------------------------------------------------\u001b[0m",
      "\u001b[1;31mZeroDivisionError\u001b[0m                         Traceback (most recent call last)",
      "Cell \u001b[1;32mIn[17], line 2\u001b[0m\n\u001b[0;32m      1\u001b[0m \u001b[38;5;28;01mtry\u001b[39;00m:\n\u001b[1;32m----> 2\u001b[0m     a \u001b[38;5;241m=\u001b[39m \u001b[38;5;241;43m10\u001b[39;49m\u001b[38;5;241;43m/\u001b[39;49m\u001b[38;5;241;43m0\u001b[39;49m\n\u001b[0;32m      3\u001b[0m \u001b[38;5;28;01mexcept\u001b[39;00m (\u001b[38;5;167;01mValueError\u001b[39;00m,\u001b[38;5;167;01mTypeError\u001b[39;00m) \u001b[38;5;28;01mas\u001b[39;00m e:\n\u001b[0;32m      4\u001b[0m     \u001b[38;5;28mprint\u001b[39m(\u001b[38;5;124m\"\u001b[39m\u001b[38;5;124mThis is my exception block\u001b[39m\u001b[38;5;124m\"\u001b[39m, e)\n",
      "\u001b[1;31mZeroDivisionError\u001b[0m: division by zero"
     ]
    }
   ],
   "source": [
    "try:\n",
    "    a = 10/0\n",
    "except (ValueError,TypeError) as e:\n",
    "    print(\"This is my exception block\", e)"
   ]
  },
  {
   "cell_type": "code",
   "execution_count": 18,
   "id": "7c5c7d78",
   "metadata": {},
   "outputs": [
    {
     "name": "stdout",
     "output_type": "stream",
     "text": [
      "This is my exception block invalid literal for int() with base 10: 'sudhanshu'\n"
     ]
    }
   ],
   "source": [
    "try:\n",
    "    int(\"sudhanshu\")\n",
    "except (ValueError,TypeError) as e:\n",
    "    print(\"This is my exception block\", e)"
   ]
  },
  {
   "cell_type": "code",
   "execution_count": 19,
   "id": "fe7dd78f",
   "metadata": {},
   "outputs": [
    {
     "name": "stdout",
     "output_type": "stream",
     "text": [
      "This will catch all exceptions\n"
     ]
    }
   ],
   "source": [
    "try:\n",
    "    int(\"sudhanshu\")\n",
    "except:\n",
    "    print(\"This will catch all exceptions\")"
   ]
  },
  {
   "cell_type": "code",
   "execution_count": 21,
   "id": "26484f3d",
   "metadata": {},
   "outputs": [
    {
     "name": "stdout",
     "output_type": "stream",
     "text": [
      "This is my exception block No module named 'sudhanshu'\n",
      "Good\n"
     ]
    }
   ],
   "source": [
    "try:\n",
    "    import sudhanshu\n",
    "except ImportError as e:\n",
    "    print(\"This is my exception block\", e)\n",
    "    \n",
    "print(\"Good\")"
   ]
  },
  {
   "cell_type": "code",
   "execution_count": 22,
   "id": "6212e7f6",
   "metadata": {},
   "outputs": [
    {
     "name": "stdout",
     "output_type": "stream",
     "text": [
      "KeyError occurred: 'key2'\n"
     ]
    }
   ],
   "source": [
    "try:\n",
    "    d = {\"key\": \"value\",1: [1, 2, 3]}\n",
    "    print(d[\"key2\"])  # This will raise a KeyError\n",
    "except KeyError as e:\n",
    "    print(\"KeyError occurred:\", e)"
   ]
  },
  {
   "cell_type": "code",
   "execution_count": 24,
   "id": "072704d1",
   "metadata": {},
   "outputs": [
    {
     "name": "stdout",
     "output_type": "stream",
     "text": [
      "AttributeError occurred: 'str' object has no attribute 'test'\n"
     ]
    }
   ],
   "source": [
    "try:\n",
    "    'sudh'.test()  # This will raise an AttributeError\n",
    "except AttributeError as e: \n",
    "    print(\"AttributeError occurred:\", e)"
   ]
  },
  {
   "cell_type": "code",
   "execution_count": 25,
   "id": "aea5ee1f",
   "metadata": {},
   "outputs": [
    {
     "name": "stdout",
     "output_type": "stream",
     "text": [
      "IndexError occurred: list index out of range\n"
     ]
    }
   ],
   "source": [
    "try:\n",
    "    l = [1, 2, 3 ]\n",
    "    print(l[5])  # This will raise an IndexError\n",
    "except IndexError as e:\n",
    "    print(\"IndexError occurred:\", e)"
   ]
  },
  {
   "cell_type": "code",
   "execution_count": 26,
   "id": "8753e23f",
   "metadata": {},
   "outputs": [
    {
     "name": "stdout",
     "output_type": "stream",
     "text": [
      "TypeError occurred: unsupported operand type(s) for +: 'int' and 'str'\n"
     ]
    }
   ],
   "source": [
    "try:\n",
    "    123 + \"abc\"  # This will raise a TypeError\n",
    "except TypeError as e:  \n",
    "    print(\"TypeError occurred:\", e)"
   ]
  },
  {
   "cell_type": "code",
   "execution_count": 27,
   "id": "c030ad84",
   "metadata": {},
   "outputs": [
    {
     "name": "stdout",
     "output_type": "stream",
     "text": [
      "FileNotFoundError occurred: [Errno 2] No such file or directory: 'test15.txt'\n"
     ]
    }
   ],
   "source": [
    "try:\n",
    "    with open(\"test15.txt\", \"r\") as f:\n",
    "        f.read()\n",
    "except FileNotFoundError as e:\n",
    "    print(\"FileNotFoundError occurred:\", e)"
   ]
  },
  {
   "cell_type": "code",
   "execution_count": null,
   "id": "d15f68b7",
   "metadata": {},
   "outputs": [
    {
     "name": "stdout",
     "output_type": "stream",
     "text": [
      "An unexpected error occurred: [Errno 2] No such file or directory: 'test15.txt'\n"
     ]
    }
   ],
   "source": [
    "try:\n",
    "    with open(\"test15.txt\", \"r\") as f:\n",
    "        f.read()\n",
    "except Exception as e:  # wrong way \n",
    "    print(\"An unexpected error occurred:\", e)\n",
    "except FileNotFoundError as e:\n",
    "    print(\"FileNotFoundError occurred:\", e)"
   ]
  },
  {
   "cell_type": "code",
   "execution_count": 29,
   "id": "ff983d28",
   "metadata": {},
   "outputs": [],
   "source": [
    "def fun(file):\n",
    "    try:\n",
    "        with open(\"test15.txt\", \"r\") as f:\n",
    "            f.read()\n",
    "    except Exception as e:  # wrong way \n",
    "        print(\"An unexpected error occurred:\", e)\n",
    "    except FileNotFoundError as e:\n",
    "        print(\"FileNotFoundError occurred:\", e)"
   ]
  },
  {
   "cell_type": "code",
   "execution_count": 30,
   "id": "86b09cec",
   "metadata": {},
   "outputs": [],
   "source": [
    "import logging\n",
    "logging.basicConfig(filename=\"test.log\", level=logging.DEBUG, format='%(asctime)s:%(levelname)s:%(message)s')  \n",
    "try:\n",
    "    10/0\n",
    "except ZeroDivisionError as e:\n",
    "    logging.error(\"ZeroDivisionError occurred: %s\", e)"
   ]
  },
  {
   "cell_type": "code",
   "execution_count": 31,
   "id": "c13a459c",
   "metadata": {},
   "outputs": [],
   "source": [
    "try:\n",
    "    10/0\n",
    "except FileNotFoundError as e:\n",
    "    logging.error(\"File not found {}\".format(e))\n",
    "except Exception as e:\n",
    "    logging.error(\"An unexpected error occurred: %s\", e)"
   ]
  },
  {
   "cell_type": "code",
   "execution_count": null,
   "id": "027d8766",
   "metadata": {},
   "outputs": [],
   "source": []
  }
 ],
 "metadata": {
  "kernelspec": {
   "display_name": "Python 3",
   "language": "python",
   "name": "python3"
  },
  "language_info": {
   "codemirror_mode": {
    "name": "ipython",
    "version": 3
   },
   "file_extension": ".py",
   "mimetype": "text/x-python",
   "name": "python",
   "nbconvert_exporter": "python",
   "pygments_lexer": "ipython3",
   "version": "3.12.4"
  }
 },
 "nbformat": 4,
 "nbformat_minor": 5
}
