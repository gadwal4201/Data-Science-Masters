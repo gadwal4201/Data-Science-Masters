{
 "cells": [
  {
   "cell_type": "markdown",
   "id": "c63cf21e",
   "metadata": {},
   "source": [
    "# Logging Module "
   ]
  },
  {
   "cell_type": "code",
   "execution_count": 105,
   "id": "029b1d6a",
   "metadata": {},
   "outputs": [
    {
     "name": "stdout",
     "output_type": "stream",
     "text": [
      "This is my print\n"
     ]
    }
   ],
   "source": [
    "print(\"This is my print\") # print only in console"
   ]
  },
  {
   "cell_type": "code",
   "execution_count": 106,
   "id": "0aef1514",
   "metadata": {},
   "outputs": [],
   "source": [
    "import logging"
   ]
  },
  {
   "cell_type": "code",
   "execution_count": 107,
   "id": "fc138a83",
   "metadata": {},
   "outputs": [],
   "source": [
    "logging.basicConfig(filename='logfile.log', level= logging.INFO)"
   ]
  },
  {
   "cell_type": "code",
   "execution_count": 108,
   "id": "05dc3ea6",
   "metadata": {},
   "outputs": [],
   "source": [
    "logging.info(\"Log this line of Execution\")"
   ]
  },
  {
   "cell_type": "code",
   "execution_count": 109,
   "id": "423c7f76",
   "metadata": {},
   "outputs": [],
   "source": [
    "logging.info(\"This is my info message\")"
   ]
  },
  {
   "cell_type": "code",
   "execution_count": 110,
   "id": "14f45290",
   "metadata": {},
   "outputs": [
    {
     "data": {
      "text/plain": [
       "'Levels of Logging\\n1. DEBUG\\n2. INFO \\n3. WARNING\\n4. ERROR    \\n5. CRITICAL\\n6. NOTSET\\n7. FATAL\\n8. EXCEPTION\\n\\n'"
      ]
     },
     "execution_count": 110,
     "metadata": {},
     "output_type": "execute_result"
    }
   ],
   "source": [
    "# Types of Logging Messages\n",
    "'''Levels of Logging\n",
    "1. DEBUG\n",
    "2. INFO \n",
    "3. WARNING\n",
    "4. ERROR    \n",
    "5. CRITICAL\n",
    "6. NOTSET\n",
    "7. FATAL\n",
    "8. EXCEPTION\n",
    "\n",
    "'''"
   ]
  },
  {
   "cell_type": "code",
   "execution_count": 111,
   "id": "840c0d84",
   "metadata": {},
   "outputs": [],
   "source": [
    "logging.debug(\"This is my debug message\")\n",
    "logging.warning(\"This is my warning message\")\n",
    "logging.error(\"This is my error message\")       \n",
    "logging.critical(\"This is my critical message\")\n",
    "logging.fatal(\"This is my fatal message\")\n",
    "logging.exception(\"This is my exception message\")   \n",
    "logging.log(logging.NOTSET, \"This is my notset message\")\n"
   ]
  },
  {
   "cell_type": "code",
   "execution_count": 112,
   "id": "19ef598d",
   "metadata": {},
   "outputs": [],
   "source": [
    "logging.shutdown()"
   ]
  },
  {
   "cell_type": "code",
   "execution_count": 113,
   "id": "aa613890",
   "metadata": {},
   "outputs": [],
   "source": [
    "logging.basicConfig(filename = 'test1_log.log',level = logging.DEBUG,Format = '%(asctime)s:%(levelname)s:%(message)s')"
   ]
  },
  {
   "cell_type": "code",
   "execution_count": 114,
   "id": "1c3c399d",
   "metadata": {},
   "outputs": [],
   "source": [
    "logging.info(\"--info message\")\n",
    "logging.warning(\"--warning message\")   \n",
    "logging.error(\"--error message\")\n",
    "logging.critical(\"--critical message\")"
   ]
  },
  {
   "cell_type": "code",
   "execution_count": 115,
   "id": "22a4db10",
   "metadata": {},
   "outputs": [],
   "source": [
    "logging.shutdown()"
   ]
  },
  {
   "cell_type": "code",
   "execution_count": 116,
   "id": "896c7da1",
   "metadata": {},
   "outputs": [],
   "source": [
    "logging.basicConfig(filename = 'Logging_File.log', level = logging.DEBUG, format = '%(asctime)s:%(levelname)s:%(message)s')"
   ]
  },
  {
   "cell_type": "code",
   "execution_count": 117,
   "id": "0bd30144",
   "metadata": {},
   "outputs": [],
   "source": [
    "logging.info(\"This is my info message\")\n",
    "logging.warning(\"This is my warning message\")\n",
    "logging.error(\"This is my error message\")"
   ]
  },
  {
   "cell_type": "code",
   "execution_count": 118,
   "id": "9c8831da",
   "metadata": {},
   "outputs": [],
   "source": [
    "l = [1,2,3,4,5,6,7,[8,9,10],\"sudh\",\"kumar\"]\n"
   ]
  },
  {
   "cell_type": "code",
   "execution_count": 124,
   "id": "a0ad4334",
   "metadata": {},
   "outputs": [],
   "source": [
    "l1_int = []\n",
    "l2_str = []\n",
    "for i in l:\n",
    "    logging.info(f\"Processing item: {i}\")\n",
    "    if type(i)== list:\n",
    "        logging.info(f\"Found a list: {i}\")\n",
    "        # If it's a list, iterate through its elements\n",
    "        for j in i:\n",
    "            logging.info(f\"Processing sub-item: {j}\")\n",
    "            if type(j) == int:\n",
    "                logging.info(f\"Adding integer: {j} to l1_int\")\n",
    "                l1_int.append(j)\n",
    "    elif type(i) == int:\n",
    "        l1_int.append(i)\n",
    "    else:\n",
    "        if type(i) == str:\n",
    "            l2_str.append(i)\n",
    "            \n",
    "logging.info(f\"Final integer list: {l1_int}\".format(l1 = l1_int, l2 = l2_str))\n",
    "logging.info(f\"Final string list: {l2_str}\")"
   ]
  },
  {
   "cell_type": "code",
   "execution_count": 120,
   "id": "ce8e11c7",
   "metadata": {},
   "outputs": [
    {
     "data": {
      "text/plain": [
       "[1, 2, 3, 4, 5, 6, 7, 8, 9, 10]"
      ]
     },
     "execution_count": 120,
     "metadata": {},
     "output_type": "execute_result"
    }
   ],
   "source": [
    "l1_int"
   ]
  },
  {
   "cell_type": "code",
   "execution_count": 121,
   "id": "6c3a7500",
   "metadata": {},
   "outputs": [
    {
     "data": {
      "text/plain": [
       "['sudh', 'kumar']"
      ]
     },
     "execution_count": 121,
     "metadata": {},
     "output_type": "execute_result"
    }
   ],
   "source": [
    "l2_str"
   ]
  },
  {
   "cell_type": "code",
   "execution_count": null,
   "id": "4cdc4602",
   "metadata": {},
   "outputs": [],
   "source": []
  }
 ],
 "metadata": {
  "kernelspec": {
   "display_name": "Python 3",
   "language": "python",
   "name": "python3"
  },
  "language_info": {
   "codemirror_mode": {
    "name": "ipython",
    "version": 3
   },
   "file_extension": ".py",
   "mimetype": "text/x-python",
   "name": "python",
   "nbconvert_exporter": "python",
   "pygments_lexer": "ipython3",
   "version": "3.12.4"
  }
 },
 "nbformat": 4,
 "nbformat_minor": 5
}
