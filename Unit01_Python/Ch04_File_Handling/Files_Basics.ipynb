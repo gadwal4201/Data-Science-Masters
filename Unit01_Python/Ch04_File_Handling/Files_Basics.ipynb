{
 "cells": [
  {
   "cell_type": "markdown",
   "id": "543656b8",
   "metadata": {},
   "source": [
    "# Files"
   ]
  },
  {
   "cell_type": "code",
   "execution_count": 41,
   "id": "6d1ed923",
   "metadata": {},
   "outputs": [],
   "source": [
    "f = open(\"test.txt\",'w')"
   ]
  },
  {
   "cell_type": "code",
   "execution_count": 42,
   "id": "3765e0db",
   "metadata": {},
   "outputs": [
    {
     "data": {
      "text/plain": [
       "'d:\\\\Data-Science-Masters\\\\Unit01_Python\\\\Ch04_File_Handling'"
      ]
     },
     "execution_count": 42,
     "metadata": {},
     "output_type": "execute_result"
    }
   ],
   "source": [
    "pwd"
   ]
  },
  {
   "cell_type": "code",
   "execution_count": 43,
   "id": "ce2c7a5a",
   "metadata": {},
   "outputs": [
    {
     "name": "stdout",
     "output_type": "stream",
     "text": [
      " Volume in drive D is Data\n",
      " Volume Serial Number is 6E93-F47D\n",
      "\n",
      " Directory of d:\\Data-Science-Masters\\Unit01_Python\\Ch04_File_Handling\n",
      "\n",
      "09-07-2025  09:51 AM    <DIR>          .\n",
      "09-07-2025  09:47 AM    <DIR>          ..\n",
      "09-07-2025  10:04 AM             8,424 Files_Basics.ipynb\n",
      "09-07-2025  10:05 AM                 0 test.txt\n",
      "               2 File(s)          8,424 bytes\n",
      "               2 Dir(s)  45,756,272,640 bytes free\n"
     ]
    }
   ],
   "source": [
    "ls"
   ]
  },
  {
   "cell_type": "code",
   "execution_count": 44,
   "id": "94c7fcf8",
   "metadata": {},
   "outputs": [
    {
     "data": {
      "text/plain": [
       "19"
      ]
     },
     "execution_count": 44,
     "metadata": {},
     "output_type": "execute_result"
    }
   ],
   "source": [
    "f.write(\"Hello Pankaj Gadwal\")"
   ]
  },
  {
   "cell_type": "code",
   "execution_count": 45,
   "id": "2a121acb",
   "metadata": {},
   "outputs": [],
   "source": [
    "f.close()"
   ]
  },
  {
   "cell_type": "code",
   "execution_count": 46,
   "id": "54140975",
   "metadata": {},
   "outputs": [
    {
     "data": {
      "text/plain": [
       "4"
      ]
     },
     "execution_count": 46,
     "metadata": {},
     "output_type": "execute_result"
    }
   ],
   "source": [
    "f = open(\"test.txt\",'w')\n",
    "\n",
    "f.write(\"Hii\\n\")\n"
   ]
  },
  {
   "cell_type": "code",
   "execution_count": 47,
   "id": "9b8abf86",
   "metadata": {},
   "outputs": [],
   "source": [
    "f.close()"
   ]
  },
  {
   "cell_type": "code",
   "execution_count": 48,
   "id": "d2369905",
   "metadata": {},
   "outputs": [
    {
     "data": {
      "text/plain": [
       "32"
      ]
     },
     "execution_count": 48,
     "metadata": {},
     "output_type": "execute_result"
    }
   ],
   "source": [
    "f = open(\"test.txt\",'a')\n",
    "f.write(\"Hello Pankaj Gadwal. How are you\")\n"
   ]
  },
  {
   "cell_type": "code",
   "execution_count": 49,
   "id": "7ac5ebef",
   "metadata": {},
   "outputs": [],
   "source": [
    "f.close()"
   ]
  },
  {
   "cell_type": "code",
   "execution_count": 50,
   "id": "d19c6150",
   "metadata": {},
   "outputs": [],
   "source": [
    "f = open('test.txt','r')"
   ]
  },
  {
   "cell_type": "code",
   "execution_count": 51,
   "id": "4f570bcb",
   "metadata": {},
   "outputs": [
    {
     "data": {
      "text/plain": [
       "'Hii\\nHello Pankaj Gadwal. How are you'"
      ]
     },
     "execution_count": 51,
     "metadata": {},
     "output_type": "execute_result"
    }
   ],
   "source": [
    "f.read()"
   ]
  },
  {
   "cell_type": "code",
   "execution_count": 52,
   "id": "166f8dcd",
   "metadata": {},
   "outputs": [
    {
     "name": "stdout",
     "output_type": "stream",
     "text": [
      "\n"
     ]
    }
   ],
   "source": [
    "print(f.read())"
   ]
  },
  {
   "cell_type": "code",
   "execution_count": 53,
   "id": "541cba79",
   "metadata": {},
   "outputs": [
    {
     "data": {
      "text/plain": [
       "''"
      ]
     },
     "execution_count": 53,
     "metadata": {},
     "output_type": "execute_result"
    }
   ],
   "source": [
    "f.readline()"
   ]
  },
  {
   "cell_type": "code",
   "execution_count": 54,
   "id": "5fcad88a",
   "metadata": {},
   "outputs": [
    {
     "data": {
      "text/plain": [
       "0"
      ]
     },
     "execution_count": 54,
     "metadata": {},
     "output_type": "execute_result"
    }
   ],
   "source": [
    "f.seek(0)"
   ]
  },
  {
   "cell_type": "code",
   "execution_count": 55,
   "id": "3b281f7a",
   "metadata": {},
   "outputs": [
    {
     "data": {
      "text/plain": [
       "'Hii\\n'"
      ]
     },
     "execution_count": 55,
     "metadata": {},
     "output_type": "execute_result"
    }
   ],
   "source": [
    "f.readline()\n"
   ]
  },
  {
   "cell_type": "code",
   "execution_count": 56,
   "id": "270ef36a",
   "metadata": {},
   "outputs": [
    {
     "data": {
      "text/plain": [
       "'Hello Pankaj Gadwal. How are you'"
      ]
     },
     "execution_count": 56,
     "metadata": {},
     "output_type": "execute_result"
    }
   ],
   "source": [
    "f.readline()\n"
   ]
  },
  {
   "cell_type": "code",
   "execution_count": 57,
   "id": "9bd5964b",
   "metadata": {},
   "outputs": [
    {
     "data": {
      "text/plain": [
       "0"
      ]
     },
     "execution_count": 57,
     "metadata": {},
     "output_type": "execute_result"
    }
   ],
   "source": [
    "f.seek(0)"
   ]
  },
  {
   "cell_type": "code",
   "execution_count": 58,
   "id": "9cf3af9e",
   "metadata": {},
   "outputs": [
    {
     "data": {
      "text/plain": [
       "'Hii\\n'"
      ]
     },
     "execution_count": 58,
     "metadata": {},
     "output_type": "execute_result"
    }
   ],
   "source": [
    "f.readline()"
   ]
  },
  {
   "cell_type": "code",
   "execution_count": 59,
   "id": "6f23bb17",
   "metadata": {},
   "outputs": [],
   "source": [
    "data = open('test.txt','r')"
   ]
  },
  {
   "cell_type": "code",
   "execution_count": 60,
   "id": "1f098708",
   "metadata": {},
   "outputs": [
    {
     "name": "stdout",
     "output_type": "stream",
     "text": [
      "Hii\n",
      "\n",
      "Hello Pankaj Gadwal. How are you\n"
     ]
    }
   ],
   "source": [
    "for i in data:\n",
    "    print(i)"
   ]
  },
  {
   "cell_type": "code",
   "execution_count": 61,
   "id": "46c226fc",
   "metadata": {},
   "outputs": [],
   "source": [
    "import os"
   ]
  },
  {
   "cell_type": "code",
   "execution_count": 62,
   "id": "68c2b4b8",
   "metadata": {},
   "outputs": [
    {
     "data": {
      "text/plain": [
       "37"
      ]
     },
     "execution_count": 62,
     "metadata": {},
     "output_type": "execute_result"
    }
   ],
   "source": [
    "os.path.getsize(\"test.txt\")"
   ]
  },
  {
   "cell_type": "code",
   "execution_count": 64,
   "id": "707db94b",
   "metadata": {},
   "outputs": [],
   "source": [
    "# os.remove('test.txt')"
   ]
  },
  {
   "cell_type": "code",
   "execution_count": 65,
   "id": "1b8caf65",
   "metadata": {},
   "outputs": [],
   "source": [
    "f = open('test1.txt','w')"
   ]
  },
  {
   "cell_type": "code",
   "execution_count": 66,
   "id": "32ca76aa",
   "metadata": {},
   "outputs": [
    {
     "data": {
      "text/plain": [
       "28"
      ]
     },
     "execution_count": 66,
     "metadata": {},
     "output_type": "execute_result"
    }
   ],
   "source": [
    "f.write(\"Zentek is a Software Company\")"
   ]
  },
  {
   "cell_type": "code",
   "execution_count": 67,
   "id": "ab9efa8a",
   "metadata": {},
   "outputs": [],
   "source": [
    "f.close()"
   ]
  },
  {
   "cell_type": "code",
   "execution_count": 68,
   "id": "a5f73c35",
   "metadata": {},
   "outputs": [],
   "source": [
    "os.rename(\"test1.txt\",\"New_Test.txt\")"
   ]
  },
  {
   "cell_type": "code",
   "execution_count": 69,
   "id": "f9bf25c7",
   "metadata": {},
   "outputs": [],
   "source": [
    "import shutil"
   ]
  },
  {
   "cell_type": "code",
   "execution_count": 70,
   "id": "11aeda07",
   "metadata": {},
   "outputs": [
    {
     "data": {
      "text/plain": [
       "'Copy_New_Test'"
      ]
     },
     "execution_count": 70,
     "metadata": {},
     "output_type": "execute_result"
    }
   ],
   "source": [
    "shutil.copy(\"New_Test.txt\",\"Copy_New_Test\")"
   ]
  },
  {
   "cell_type": "code",
   "execution_count": 71,
   "id": "4182e5e2",
   "metadata": {},
   "outputs": [
    {
     "name": "stdout",
     "output_type": "stream",
     "text": [
      "Zentek is a Software Company\n"
     ]
    }
   ],
   "source": [
    "with open('New_Test.txt','r') as f:\n",
    "    print(f.read())"
   ]
  },
  {
   "cell_type": "code",
   "execution_count": 73,
   "id": "93e2ea4a",
   "metadata": {},
   "outputs": [],
   "source": [
    "data = {\n",
    "    \"Name\" : 'Pankaj',\n",
    "    \"Email\" : 'gadwalpankaj1435@gmail.com',\n",
    "    \"Phone\" : 9413436533,\n",
    "    \"Subject\" : [\"Data Science\", \"Big Data\", \"Data Analytics\"]\n",
    "}"
   ]
  },
  {
   "cell_type": "code",
   "execution_count": 74,
   "id": "b258ac06",
   "metadata": {},
   "outputs": [],
   "source": [
    "import json"
   ]
  },
  {
   "cell_type": "code",
   "execution_count": 78,
   "id": "22f6f38b",
   "metadata": {},
   "outputs": [],
   "source": [
    "with open(\"data.json\",'w') as f:\n",
    "    json.dump(data, f)"
   ]
  },
  {
   "cell_type": "code",
   "execution_count": 79,
   "id": "66e62ec7",
   "metadata": {},
   "outputs": [],
   "source": [
    "with open(\"data.json\",'r') as f:\n",
    "    data1 = json.load(f)"
   ]
  },
  {
   "cell_type": "code",
   "execution_count": 80,
   "id": "4e3aab3d",
   "metadata": {},
   "outputs": [
    {
     "data": {
      "text/plain": [
       "{'Name': 'Pankaj',\n",
       " 'Email': 'gadwalpankaj1435@gmail.com',\n",
       " 'Phone': 9413436533,\n",
       " 'Subject': ['Data Science', 'Big Data', 'Data Analytics']}"
      ]
     },
     "execution_count": 80,
     "metadata": {},
     "output_type": "execute_result"
    }
   ],
   "source": [
    "data1"
   ]
  },
  {
   "cell_type": "code",
   "execution_count": 81,
   "id": "9d0facc4",
   "metadata": {},
   "outputs": [
    {
     "data": {
      "text/plain": [
       "['Data Science', 'Big Data', 'Data Analytics']"
      ]
     },
     "execution_count": 81,
     "metadata": {},
     "output_type": "execute_result"
    }
   ],
   "source": [
    "data1['Subject']"
   ]
  },
  {
   "cell_type": "code",
   "execution_count": 82,
   "id": "91e6963f",
   "metadata": {},
   "outputs": [
    {
     "data": {
      "text/plain": [
       "'Big Data'"
      ]
     },
     "execution_count": 82,
     "metadata": {},
     "output_type": "execute_result"
    }
   ],
   "source": [
    "data1['Subject'][1]"
   ]
  },
  {
   "cell_type": "code",
   "execution_count": 83,
   "id": "c1d15d32",
   "metadata": {},
   "outputs": [],
   "source": [
    "import csv"
   ]
  },
  {
   "cell_type": "code",
   "execution_count": 87,
   "id": "39e2fd1c",
   "metadata": {},
   "outputs": [],
   "source": [
    "data = [[\"Name\",\"Gmail\",\"Number\"],\n",
    "        [\"Pankaj\",\"gd@gmail.com\",658949652],\n",
    "        [\"Kanha\",\"pk@gmail.com\",61894]\n",
    "]"
   ]
  },
  {
   "cell_type": "code",
   "execution_count": 88,
   "id": "b02c2497",
   "metadata": {},
   "outputs": [],
   "source": [
    "with open('Data.csv','w') as f:\n",
    "    writer = csv.writer(f)\n",
    "    \n",
    "    for i in data:\n",
    "        writer.writerow(i)"
   ]
  },
  {
   "cell_type": "code",
   "execution_count": 89,
   "id": "e53d30f7",
   "metadata": {},
   "outputs": [
    {
     "name": "stdout",
     "output_type": "stream",
     "text": [
      "['Name', 'Gmail', 'Number']\n",
      "[]\n",
      "['Pankaj', 'gd@gmail.com', '658949652']\n",
      "[]\n",
      "['Kanha', 'pk@gmail.com', '61894']\n",
      "[]\n"
     ]
    }
   ],
   "source": [
    "with open('Data.csv','r') as f:\n",
    "    read_data = csv.reader(f)\n",
    "    \n",
    "    for i in read_data:\n",
    "        print(i)"
   ]
  },
  {
   "cell_type": "code",
   "execution_count": 91,
   "id": "3c89faa5",
   "metadata": {},
   "outputs": [],
   "source": [
    "with open(\"Binary_file.bin\",'wb') as f:\n",
    "    f.write(b\"\\x01\\x02x\\x03xx9413436533\")"
   ]
  },
  {
   "cell_type": "code",
   "execution_count": 93,
   "id": "f0e69ccd",
   "metadata": {},
   "outputs": [
    {
     "name": "stdout",
     "output_type": "stream",
     "text": [
      "b'\\x01\\x02x\\x03xx9413436533'\n"
     ]
    }
   ],
   "source": [
    "with open(\"Binary_file.bin\",'rb') as f:\n",
    "    print(f.read())"
   ]
  },
  {
   "cell_type": "code",
   "execution_count": null,
   "id": "cfe9e0fa",
   "metadata": {},
   "outputs": [],
   "source": []
  }
 ],
 "metadata": {
  "kernelspec": {
   "display_name": "Python 3",
   "language": "python",
   "name": "python3"
  },
  "language_info": {
   "codemirror_mode": {
    "name": "ipython",
    "version": 3
   },
   "file_extension": ".py",
   "mimetype": "text/x-python",
   "name": "python",
   "nbconvert_exporter": "python",
   "pygments_lexer": "ipython3",
   "version": "3.12.4"
  }
 },
 "nbformat": 4,
 "nbformat_minor": 5
}
