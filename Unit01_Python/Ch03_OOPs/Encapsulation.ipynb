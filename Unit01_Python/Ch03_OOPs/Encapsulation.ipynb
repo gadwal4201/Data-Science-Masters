{
 "cells": [
  {
   "cell_type": "markdown",
   "id": "310e5292",
   "metadata": {},
   "source": [
    "# Encapsulation"
   ]
  },
  {
   "cell_type": "code",
   "execution_count": 27,
   "id": "077c8286",
   "metadata": {},
   "outputs": [
    {
     "data": {
      "text/plain": [
       "' Encapsulation is a key concept of object-oriented \\nprogramming. It is the process of bundling \\ndata members and functions within a single class. \\nThis also helps in data hiding while \\nensuring that objects are self-sufficient\\nfunctioning pieces that can work independently.'"
      ]
     },
     "execution_count": 27,
     "metadata": {},
     "output_type": "execute_result"
    }
   ],
   "source": [
    "''' Encapsulation is a key concept of object-oriented \n",
    "programming. It is the process of bundling \n",
    "data members and functions within a single class. \n",
    "This also helps in data hiding while \n",
    "ensuring that objects are self-sufficient\n",
    "functioning pieces that can work independently.'''"
   ]
  },
  {
   "cell_type": "code",
   "execution_count": 28,
   "id": "8687d86b",
   "metadata": {},
   "outputs": [],
   "source": [
    "class test:\n",
    "    \n",
    "    def __init__(self,a,b):\n",
    "        self.a = a\n",
    "        self.b = b"
   ]
  },
  {
   "cell_type": "code",
   "execution_count": 29,
   "id": "7d4c0071",
   "metadata": {},
   "outputs": [],
   "source": [
    "t=test(30,40)"
   ]
  },
  {
   "cell_type": "code",
   "execution_count": 30,
   "id": "f41baada",
   "metadata": {},
   "outputs": [
    {
     "data": {
      "text/plain": [
       "30"
      ]
     },
     "execution_count": 30,
     "metadata": {},
     "output_type": "execute_result"
    }
   ],
   "source": [
    "t.a"
   ]
  },
  {
   "cell_type": "code",
   "execution_count": 31,
   "id": "3ff158cc",
   "metadata": {},
   "outputs": [
    {
     "data": {
      "text/plain": [
       "3000"
      ]
     },
     "execution_count": 31,
     "metadata": {},
     "output_type": "execute_result"
    }
   ],
   "source": [
    "t.a = 3000\n",
    "t.a"
   ]
  },
  {
   "cell_type": "code",
   "execution_count": 32,
   "id": "d3a7acea",
   "metadata": {},
   "outputs": [],
   "source": [
    "class car:\n",
    "    def __init__(self,year, make, model, speed):\n",
    "        self.__year = year\n",
    "        self.__make = make\n",
    "        self.__model = model\n",
    "        self.__speed = 0\n",
    "        \n",
    "    def set_speed(self,speed):\n",
    "        self.__speed = 0 if speed<0 else speed\n",
    "        \n",
    "    def get_speed(self):\n",
    "        return self.__speed"
   ]
  },
  {
   "cell_type": "code",
   "execution_count": 33,
   "id": "12a974d4",
   "metadata": {},
   "outputs": [],
   "source": [
    "c = car(2021,\"toyota\",\"innova\",12)"
   ]
  },
  {
   "cell_type": "code",
   "execution_count": 34,
   "id": "5041a07b",
   "metadata": {},
   "outputs": [
    {
     "data": {
      "text/plain": [
       "2021"
      ]
     },
     "execution_count": 34,
     "metadata": {},
     "output_type": "execute_result"
    }
   ],
   "source": [
    "c._car__year"
   ]
  },
  {
   "cell_type": "code",
   "execution_count": 35,
   "id": "b78b2f17",
   "metadata": {},
   "outputs": [],
   "source": [
    "c.set_speed(-300)"
   ]
  },
  {
   "cell_type": "code",
   "execution_count": 36,
   "id": "2fc056dc",
   "metadata": {},
   "outputs": [
    {
     "data": {
      "text/plain": [
       "0"
      ]
     },
     "execution_count": 36,
     "metadata": {},
     "output_type": "execute_result"
    }
   ],
   "source": [
    "c.get_speed()"
   ]
  },
  {
   "cell_type": "code",
   "execution_count": 37,
   "id": "e13af326",
   "metadata": {},
   "outputs": [],
   "source": [
    "c.set_speed(400)"
   ]
  },
  {
   "cell_type": "code",
   "execution_count": 38,
   "id": "90be2c06",
   "metadata": {},
   "outputs": [
    {
     "data": {
      "text/plain": [
       "400"
      ]
     },
     "execution_count": 38,
     "metadata": {},
     "output_type": "execute_result"
    }
   ],
   "source": [
    "c.get_speed()"
   ]
  },
  {
   "cell_type": "code",
   "execution_count": 39,
   "id": "56baa9a3",
   "metadata": {},
   "outputs": [],
   "source": [
    "class bank_account:\n",
    "    \n",
    "    def __init__(self,balance):\n",
    "        self.__balance = balance\n",
    "        \n",
    "    def deposit(self,amount):\n",
    "        self.__balance = self.__balance + amount\n",
    "        \n",
    "    def withdraw(self, amount):\n",
    "        if self.__balance > amount :\n",
    "            self.__balance = self.__balance - amount\n",
    "            return f\"{amount} is withdraw successfully\"\n",
    "        else : return \"Insufficient Balance\"\n",
    "        \n",
    "    def get_balance(self):\n",
    "        return self.__balance"
   ]
  },
  {
   "cell_type": "code",
   "execution_count": 40,
   "id": "9f8e229b",
   "metadata": {},
   "outputs": [],
   "source": [
    "pankaj = bank_account(1000)"
   ]
  },
  {
   "cell_type": "code",
   "execution_count": 41,
   "id": "3ad1267f",
   "metadata": {},
   "outputs": [
    {
     "data": {
      "text/plain": [
       "1000"
      ]
     },
     "execution_count": 41,
     "metadata": {},
     "output_type": "execute_result"
    }
   ],
   "source": [
    "pankaj.get_balance()"
   ]
  },
  {
   "cell_type": "code",
   "execution_count": 42,
   "id": "bf28f8b5",
   "metadata": {},
   "outputs": [],
   "source": [
    "pankaj.deposit(5000)"
   ]
  },
  {
   "cell_type": "code",
   "execution_count": 43,
   "id": "c059e8e2",
   "metadata": {},
   "outputs": [
    {
     "data": {
      "text/plain": [
       "6000"
      ]
     },
     "execution_count": 43,
     "metadata": {},
     "output_type": "execute_result"
    }
   ],
   "source": [
    "pankaj.get_balance()"
   ]
  },
  {
   "cell_type": "code",
   "execution_count": 44,
   "id": "15a39a79",
   "metadata": {},
   "outputs": [
    {
     "data": {
      "text/plain": [
       "'2500 is withdraw successfully'"
      ]
     },
     "execution_count": 44,
     "metadata": {},
     "output_type": "execute_result"
    }
   ],
   "source": [
    "pankaj.withdraw(2500)"
   ]
  },
  {
   "cell_type": "code",
   "execution_count": 45,
   "id": "7c281a28",
   "metadata": {},
   "outputs": [
    {
     "data": {
      "text/plain": [
       "3500"
      ]
     },
     "execution_count": 45,
     "metadata": {},
     "output_type": "execute_result"
    }
   ],
   "source": [
    "pankaj.get_balance()"
   ]
  },
  {
   "cell_type": "code",
   "execution_count": 46,
   "id": "ea5442d4",
   "metadata": {},
   "outputs": [
    {
     "data": {
      "text/plain": [
       "'Insufficient Balance'"
      ]
     },
     "execution_count": 46,
     "metadata": {},
     "output_type": "execute_result"
    }
   ],
   "source": [
    "pankaj.withdraw(4000)"
   ]
  },
  {
   "cell_type": "code",
   "execution_count": 47,
   "id": "09b29fc6",
   "metadata": {},
   "outputs": [
    {
     "data": {
      "text/plain": [
       "3500"
      ]
     },
     "execution_count": 47,
     "metadata": {},
     "output_type": "execute_result"
    }
   ],
   "source": [
    "pankaj.get_balance()"
   ]
  },
  {
   "cell_type": "code",
   "execution_count": null,
   "id": "bffc5c04",
   "metadata": {},
   "outputs": [],
   "source": []
  }
 ],
 "metadata": {
  "kernelspec": {
   "display_name": "Python 3",
   "language": "python",
   "name": "python3"
  },
  "language_info": {
   "codemirror_mode": {
    "name": "ipython",
    "version": 3
   },
   "file_extension": ".py",
   "mimetype": "text/x-python",
   "name": "python",
   "nbconvert_exporter": "python",
   "pygments_lexer": "ipython3",
   "version": "3.12.4"
  }
 },
 "nbformat": 4,
 "nbformat_minor": 5
}
