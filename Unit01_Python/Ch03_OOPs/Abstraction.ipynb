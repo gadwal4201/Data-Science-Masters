{
 "cells": [
  {
   "cell_type": "markdown",
   "id": "c7413652",
   "metadata": {},
   "source": [
    "# Abstraction"
   ]
  },
  {
   "cell_type": "markdown",
   "id": "5de1a057",
   "metadata": {},
   "source": [
    "Abstraction in Python is a core concept in Object-Oriented Programming (OOP) that simplifies complex systems by hiding unnecessary details and exposing only essential functionalities. It's achieved using abstract classes, abstract methods, and interfaces. "
   ]
  },
  {
   "cell_type": "code",
   "execution_count": 3,
   "id": "31276b3d",
   "metadata": {},
   "outputs": [
    {
     "name": "stdout",
     "output_type": "stream",
     "text": [
      "Car engine started\n"
     ]
    }
   ],
   "source": [
    "from abc import ABC, abstractmethod\n",
    "\n",
    "## Abstract base class\n",
    "class Vehicle(ABC):\n",
    "    def drive(self):\n",
    "        print(\"The vehicle is used for driving\")\n",
    "        \n",
    "    @abstractmethod\n",
    "    def start_engine(self):\n",
    "        pass\n",
    "\n",
    "class Car(Vehicle):\n",
    "    def start_engine(self):\n",
    "        print(\"Car engine started\")\n",
    "        \n",
    "def operate_vehicle(vehicle):\n",
    "        vehicle.start_engine()\n",
    "        \n",
    "car = Car()\n",
    "operate_vehicle(car)"
   ]
  },
  {
   "cell_type": "code",
   "execution_count": 10,
   "id": "18051775",
   "metadata": {},
   "outputs": [],
   "source": [
    "from abc import ABC, abstractmethod\n",
    "\n",
    "## Abstract base class\n",
    "class BankApp(ABC):\n",
    "    def database(self):\n",
    "        print(\"Connected to database\")\n",
    "        \n",
    "    @abstractmethod\n",
    "    def security(self):\n",
    "        pass\n",
    "    \n",
    "    @abstractmethod\n",
    "    def display(self):\n",
    "        pass"
   ]
  },
  {
   "cell_type": "code",
   "execution_count": 13,
   "id": "6c191ad1",
   "metadata": {},
   "outputs": [],
   "source": [
    "class MobileApp(BankApp):\n",
    "    def mobile_login(self):\n",
    "        print(\"login into mobile\")\n",
    "        \n",
    "    def security(self):\n",
    "        print(\"Mobile security\")\n",
    "        \n",
    "    def display(self):\n",
    "        print(\"Mobile display\")"
   ]
  },
  {
   "cell_type": "code",
   "execution_count": 17,
   "id": "294f8518",
   "metadata": {},
   "outputs": [],
   "source": [
    "# obj = BankApp()  # error"
   ]
  },
  {
   "cell_type": "code",
   "execution_count": 14,
   "id": "2cd63cec",
   "metadata": {},
   "outputs": [],
   "source": [
    "mob = MobileApp()"
   ]
  },
  {
   "cell_type": "code",
   "execution_count": 15,
   "id": "a275cbc5",
   "metadata": {},
   "outputs": [
    {
     "name": "stdout",
     "output_type": "stream",
     "text": [
      "Mobile security\n"
     ]
    }
   ],
   "source": [
    "mob.security()"
   ]
  },
  {
   "cell_type": "code",
   "execution_count": 18,
   "id": "1aab2e96",
   "metadata": {},
   "outputs": [
    {
     "name": "stdout",
     "output_type": "stream",
     "text": [
      "Connected to database\n"
     ]
    }
   ],
   "source": [
    "mob.database()"
   ]
  },
  {
   "cell_type": "code",
   "execution_count": 20,
   "id": "75b800e6",
   "metadata": {},
   "outputs": [
    {
     "name": "stdout",
     "output_type": "stream",
     "text": [
      "login into mobile\n"
     ]
    }
   ],
   "source": [
    "mob.mobile_login()"
   ]
  },
  {
   "cell_type": "code",
   "execution_count": 21,
   "id": "223a9639",
   "metadata": {},
   "outputs": [
    {
     "name": "stdout",
     "output_type": "stream",
     "text": [
      "Mobile display\n"
     ]
    }
   ],
   "source": [
    "mob.display()"
   ]
  },
  {
   "cell_type": "code",
   "execution_count": null,
   "id": "561e5471",
   "metadata": {},
   "outputs": [],
   "source": []
  }
 ],
 "metadata": {
  "kernelspec": {
   "display_name": "Python 3",
   "language": "python",
   "name": "python3"
  },
  "language_info": {
   "codemirror_mode": {
    "name": "ipython",
    "version": 3
   },
   "file_extension": ".py",
   "mimetype": "text/x-python",
   "name": "python",
   "nbconvert_exporter": "python",
   "pygments_lexer": "ipython3",
   "version": "3.12.4"
  }
 },
 "nbformat": 4,
 "nbformat_minor": 5
}
