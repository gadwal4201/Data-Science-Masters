{
 "cells": [
  {
   "cell_type": "markdown",
   "id": "a330ced0",
   "metadata": {},
   "source": [
    "# Inheritance"
   ]
  },
  {
   "cell_type": "code",
   "execution_count": 1,
   "id": "dff64a38",
   "metadata": {},
   "outputs": [],
   "source": [
    "class test:\n",
    "    \n",
    "    def test_method(self):\n",
    "        return \"This is my parent class\""
   ]
  },
  {
   "cell_type": "code",
   "execution_count": 2,
   "id": "ec8e25fc",
   "metadata": {},
   "outputs": [],
   "source": [
    "class child_test(test):\n",
    "    pass"
   ]
  },
  {
   "cell_type": "code",
   "execution_count": 3,
   "id": "7d3e6528",
   "metadata": {},
   "outputs": [],
   "source": [
    "obj_child_test = child_test()"
   ]
  },
  {
   "cell_type": "code",
   "execution_count": 4,
   "id": "18f5c1e2",
   "metadata": {},
   "outputs": [
    {
     "data": {
      "text/plain": [
       "'This is my parent class'"
      ]
     },
     "execution_count": 4,
     "metadata": {},
     "output_type": "execute_result"
    }
   ],
   "source": [
    "obj_child_test.test_method()"
   ]
  },
  {
   "cell_type": "markdown",
   "id": "94e8e119",
   "metadata": {},
   "source": [
    "1. Multilevel Inheritance"
   ]
  },
  {
   "cell_type": "code",
   "execution_count": 9,
   "id": "7bbb8b39",
   "metadata": {},
   "outputs": [],
   "source": [
    "class parent:\n",
    "    \n",
    "    def test_parent(self):\n",
    "        return \"This is method of parent class\""
   ]
  },
  {
   "cell_type": "code",
   "execution_count": 10,
   "id": "5d1a0a96",
   "metadata": {},
   "outputs": [],
   "source": [
    "class child(parent):\n",
    "    \n",
    "    def test_child(self):\n",
    "        return \"This is method from chid class\""
   ]
  },
  {
   "cell_type": "code",
   "execution_count": 11,
   "id": "1e246734",
   "metadata": {},
   "outputs": [],
   "source": [
    "class subChild(child):\n",
    "    pass"
   ]
  },
  {
   "cell_type": "code",
   "execution_count": 12,
   "id": "83431799",
   "metadata": {},
   "outputs": [],
   "source": [
    "obj_subChild = subChild()  # create object"
   ]
  },
  {
   "cell_type": "code",
   "execution_count": 15,
   "id": "8da0f598",
   "metadata": {},
   "outputs": [
    {
     "data": {
      "text/plain": [
       "'This is method from chid class'"
      ]
     },
     "execution_count": 15,
     "metadata": {},
     "output_type": "execute_result"
    }
   ],
   "source": [
    "obj_subChild.test_child()"
   ]
  },
  {
   "cell_type": "code",
   "execution_count": 16,
   "id": "26b2cfbb",
   "metadata": {},
   "outputs": [
    {
     "data": {
      "text/plain": [
       "'This is method of parent class'"
      ]
     },
     "execution_count": 16,
     "metadata": {},
     "output_type": "execute_result"
    }
   ],
   "source": [
    "obj_subChild.test_parent()"
   ]
  },
  {
   "cell_type": "markdown",
   "id": "44ed7e66",
   "metadata": {},
   "source": [
    "2. Multiple Inheritance"
   ]
  },
  {
   "cell_type": "code",
   "execution_count": 17,
   "id": "6f10f7c8",
   "metadata": {},
   "outputs": [],
   "source": [
    "class papa:\n",
    "    \n",
    "    def test_papa(self):\n",
    "        return \"I am your Father\""
   ]
  },
  {
   "cell_type": "code",
   "execution_count": 18,
   "id": "3c9cc4ae",
   "metadata": {},
   "outputs": [],
   "source": [
    "class mummy:\n",
    "    \n",
    "    def test_mummy(papa):\n",
    "        return \"I am your Mother\""
   ]
  },
  {
   "cell_type": "code",
   "execution_count": 19,
   "id": "c28014c7",
   "metadata": {},
   "outputs": [],
   "source": [
    "class baccha(papa,mummy):\n",
    "    pass"
   ]
  },
  {
   "cell_type": "code",
   "execution_count": 20,
   "id": "7df4a9c1",
   "metadata": {},
   "outputs": [],
   "source": [
    "obj_baccha = baccha()"
   ]
  },
  {
   "cell_type": "code",
   "execution_count": 21,
   "id": "932a557e",
   "metadata": {},
   "outputs": [
    {
     "data": {
      "text/plain": [
       "'I am your Mother'"
      ]
     },
     "execution_count": 21,
     "metadata": {},
     "output_type": "execute_result"
    }
   ],
   "source": [
    "obj_baccha.test_mummy()"
   ]
  },
  {
   "cell_type": "code",
   "execution_count": 22,
   "id": "69b73d89",
   "metadata": {},
   "outputs": [
    {
     "data": {
      "text/plain": [
       "'I am your Father'"
      ]
     },
     "execution_count": 22,
     "metadata": {},
     "output_type": "execute_result"
    }
   ],
   "source": [
    "obj_baccha.test_papa()"
   ]
  },
  {
   "cell_type": "code",
   "execution_count": null,
   "id": "91a78256",
   "metadata": {},
   "outputs": [],
   "source": []
  }
 ],
 "metadata": {
  "kernelspec": {
   "display_name": "Python 3",
   "language": "python",
   "name": "python3"
  },
  "language_info": {
   "codemirror_mode": {
    "name": "ipython",
    "version": 3
   },
   "file_extension": ".py",
   "mimetype": "text/x-python",
   "name": "python",
   "nbconvert_exporter": "python",
   "pygments_lexer": "ipython3",
   "version": "3.12.4"
  }
 },
 "nbformat": 4,
 "nbformat_minor": 5
}
