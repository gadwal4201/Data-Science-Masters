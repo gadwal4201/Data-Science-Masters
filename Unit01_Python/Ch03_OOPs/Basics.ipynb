{
 "cells": [
  {
   "cell_type": "markdown",
   "id": "525133e7",
   "metadata": {},
   "source": [
    "# OOPs"
   ]
  },
  {
   "cell_type": "code",
   "execution_count": 2,
   "id": "46237598",
   "metadata": {},
   "outputs": [],
   "source": [
    "a = 1"
   ]
  },
  {
   "cell_type": "code",
   "execution_count": 3,
   "id": "15eaf91c",
   "metadata": {},
   "outputs": [
    {
     "data": {
      "text/plain": [
       "int"
      ]
     },
     "execution_count": 3,
     "metadata": {},
     "output_type": "execute_result"
    }
   ],
   "source": [
    "type(a)"
   ]
  },
  {
   "cell_type": "code",
   "execution_count": 4,
   "id": "bb546a54",
   "metadata": {},
   "outputs": [
    {
     "name": "stdout",
     "output_type": "stream",
     "text": [
      "<class 'int'>\n"
     ]
    }
   ],
   "source": [
    "print(type(a))"
   ]
  },
  {
   "cell_type": "code",
   "execution_count": 5,
   "id": "b5bdf7dc",
   "metadata": {},
   "outputs": [],
   "source": [
    "class test:\n",
    "    pass"
   ]
  },
  {
   "cell_type": "code",
   "execution_count": 6,
   "id": "5691506a",
   "metadata": {},
   "outputs": [],
   "source": [
    "variable = test()"
   ]
  },
  {
   "cell_type": "code",
   "execution_count": 7,
   "id": "45fb3a57",
   "metadata": {},
   "outputs": [
    {
     "data": {
      "text/plain": [
       "__main__.test"
      ]
     },
     "execution_count": 7,
     "metadata": {},
     "output_type": "execute_result"
    }
   ],
   "source": [
    "type(variable)"
   ]
  },
  {
   "cell_type": "code",
   "execution_count": 12,
   "id": "39dd5eac",
   "metadata": {},
   "outputs": [],
   "source": [
    "class pwskills :\n",
    "    def welcome_msg(self):\n",
    "        print(\"Welcome to pwskills\")"
   ]
  },
  {
   "cell_type": "code",
   "execution_count": 16,
   "id": "d4053cf4",
   "metadata": {},
   "outputs": [],
   "source": [
    "obj1 = pwskills()"
   ]
  },
  {
   "cell_type": "code",
   "execution_count": 17,
   "id": "89c05138",
   "metadata": {},
   "outputs": [
    {
     "name": "stdout",
     "output_type": "stream",
     "text": [
      "<class '__main__.pwskills'>\n"
     ]
    }
   ],
   "source": [
    "print(type(obj1))"
   ]
  },
  {
   "cell_type": "code",
   "execution_count": 18,
   "id": "a3fe3b0d",
   "metadata": {},
   "outputs": [
    {
     "name": "stdout",
     "output_type": "stream",
     "text": [
      "Welcome to pwskills\n"
     ]
    }
   ],
   "source": [
    "obj1.welcome_msg()"
   ]
  },
  {
   "cell_type": "code",
   "execution_count": 19,
   "id": "20242008",
   "metadata": {},
   "outputs": [],
   "source": [
    "obj2 = pwskills()"
   ]
  },
  {
   "cell_type": "code",
   "execution_count": 20,
   "id": "a38a31e5",
   "metadata": {},
   "outputs": [
    {
     "name": "stdout",
     "output_type": "stream",
     "text": [
      "Welcome to pwskills\n"
     ]
    }
   ],
   "source": [
    "obj2.welcome_msg()"
   ]
  },
  {
   "cell_type": "code",
   "execution_count": 21,
   "id": "45dc79b0",
   "metadata": {},
   "outputs": [],
   "source": [
    "class pw :\n",
    "    def __init__(self,phone_no, email_id, st_id):\n",
    "        self.phone_no = phone_no\n",
    "        self.email_id =  email_id\n",
    "        self.st_id = st_id\n",
    "        \n",
    "    def return_st_details(self):\n",
    "        return self.st_id, self.phone_no, self.email_id"
   ]
  },
  {
   "cell_type": "code",
   "execution_count": null,
   "id": "7f23779f",
   "metadata": {},
   "outputs": [
    {
     "ename": "TypeError",
     "evalue": "pw.__init__() missing 3 required positional arguments: 'phone_no', 'email_id', and 'st_id'",
     "output_type": "error",
     "traceback": [
      "\u001b[1;31m---------------------------------------------------------------------------\u001b[0m",
      "\u001b[1;31mTypeError\u001b[0m                                 Traceback (most recent call last)",
      "Cell \u001b[1;32mIn[22], line 1\u001b[0m\n\u001b[1;32m----> 1\u001b[0m rohan \u001b[38;5;241m=\u001b[39m \u001b[43mpw\u001b[49m\u001b[43m(\u001b[49m\u001b[43m)\u001b[49m\n",
      "\u001b[1;31mTypeError\u001b[0m: pw.__init__() missing 3 required positional arguments: 'phone_no', 'email_id', and 'st_id'"
     ]
    }
   ],
   "source": [
    "rohan = pw() # error --> pw.__init__() missing 3 required positional arguments: 'phone_no', 'email_id', and 'st_id'"
   ]
  },
  {
   "cell_type": "code",
   "execution_count": 25,
   "id": "bee621a8",
   "metadata": {},
   "outputs": [],
   "source": [
    "rohan = pw(123456789,'pk@gmail.com',79)"
   ]
  },
  {
   "cell_type": "code",
   "execution_count": 26,
   "id": "27ccbc36",
   "metadata": {},
   "outputs": [
    {
     "data": {
      "text/plain": [
       "(79, 123456789, 'pk@gmail.com')"
      ]
     },
     "execution_count": 26,
     "metadata": {},
     "output_type": "execute_result"
    }
   ],
   "source": [
    "rohan.return_st_details()"
   ]
  },
  {
   "cell_type": "code",
   "execution_count": 28,
   "id": "e8ee34c3",
   "metadata": {},
   "outputs": [],
   "source": [
    "gourav = pw(987456321,\"kp@gmail.com\",80)"
   ]
  },
  {
   "cell_type": "code",
   "execution_count": 30,
   "id": "0c0c2306",
   "metadata": {},
   "outputs": [
    {
     "data": {
      "text/plain": [
       "(80, 987456321, 'kp@gmail.com')"
      ]
     },
     "execution_count": 30,
     "metadata": {},
     "output_type": "execute_result"
    }
   ],
   "source": [
    "gourav.return_st_details()"
   ]
  },
  {
   "cell_type": "code",
   "execution_count": 31,
   "id": "a8d4ca8f",
   "metadata": {},
   "outputs": [
    {
     "data": {
      "text/plain": [
       "'kp@gmail.com'"
      ]
     },
     "execution_count": 31,
     "metadata": {},
     "output_type": "execute_result"
    }
   ],
   "source": [
    "gourav.email_id"
   ]
  },
  {
   "cell_type": "code",
   "execution_count": 32,
   "id": "108412eb",
   "metadata": {},
   "outputs": [
    {
     "data": {
      "text/plain": [
       "987456321"
      ]
     },
     "execution_count": 32,
     "metadata": {},
     "output_type": "execute_result"
    }
   ],
   "source": [
    "gourav.phone_no"
   ]
  },
  {
   "cell_type": "code",
   "execution_count": 39,
   "id": "83d0e795",
   "metadata": {},
   "outputs": [],
   "source": [
    "class pw2 :\n",
    "    def __init__(self,phone_no, email_id, st_id):\n",
    "        self.phone_no2 = phone_no\n",
    "        self.email_id2 =  email_id\n",
    "        self.st_id2 = st_id\n",
    "        \n",
    "    def return_st_details(self):\n",
    "        return self.st_id2, self.phone_no2, self.email_id2"
   ]
  },
  {
   "cell_type": "code",
   "execution_count": 40,
   "id": "5af631b8",
   "metadata": {},
   "outputs": [],
   "source": [
    "sudh = pw2(456123789,'sudh@gmail.com',99)"
   ]
  },
  {
   "cell_type": "code",
   "execution_count": 41,
   "id": "3b098872",
   "metadata": {},
   "outputs": [
    {
     "ename": "AttributeError",
     "evalue": "'pw2' object has no attribute 'phone_no'",
     "output_type": "error",
     "traceback": [
      "\u001b[1;31m---------------------------------------------------------------------------\u001b[0m",
      "\u001b[1;31mAttributeError\u001b[0m                            Traceback (most recent call last)",
      "Cell \u001b[1;32mIn[41], line 1\u001b[0m\n\u001b[1;32m----> 1\u001b[0m \u001b[43msudh\u001b[49m\u001b[38;5;241;43m.\u001b[39;49m\u001b[43mphone_no\u001b[49m  \u001b[38;5;66;03m# error\u001b[39;00m\n",
      "\u001b[1;31mAttributeError\u001b[0m: 'pw2' object has no attribute 'phone_no'"
     ]
    }
   ],
   "source": [
    "sudh.phone_no  # error"
   ]
  },
  {
   "cell_type": "code",
   "execution_count": 42,
   "id": "a371f6dc",
   "metadata": {},
   "outputs": [
    {
     "data": {
      "text/plain": [
       "987456321"
      ]
     },
     "execution_count": 42,
     "metadata": {},
     "output_type": "execute_result"
    }
   ],
   "source": [
    "gourav.phone_no"
   ]
  },
  {
   "cell_type": "code",
   "execution_count": 43,
   "id": "da97faa3",
   "metadata": {},
   "outputs": [
    {
     "data": {
      "text/plain": [
       "456123789"
      ]
     },
     "execution_count": 43,
     "metadata": {},
     "output_type": "execute_result"
    }
   ],
   "source": [
    "sudh.phone_no2"
   ]
  },
  {
   "cell_type": "code",
   "execution_count": 44,
   "id": "873e284c",
   "metadata": {},
   "outputs": [
    {
     "data": {
      "text/plain": [
       "(99, 456123789, 'sudh@gmail.com')"
      ]
     },
     "execution_count": 44,
     "metadata": {},
     "output_type": "execute_result"
    }
   ],
   "source": [
    "sudh.return_st_details()"
   ]
  },
  {
   "cell_type": "code",
   "execution_count": 46,
   "id": "ac54593f",
   "metadata": {},
   "outputs": [],
   "source": [
    "class pw3:\n",
    "    def __init__(sudh,phone_no, email_id, st_id):\n",
    "        sudh.phone_no2 = phone_no\n",
    "        sudh.email_id2 =  email_id\n",
    "        sudh.st_id2 = st_id\n",
    "        \n",
    "    def return_st_details(sudh):\n",
    "        return sudh.st_id2, sudh.phone_no2, sudh.email_id2"
   ]
  },
  {
   "cell_type": "code",
   "execution_count": 48,
   "id": "3ff3ee1d",
   "metadata": {},
   "outputs": [],
   "source": [
    "sonu = pw3(5511485,\"sn@gmail.com\",100)"
   ]
  },
  {
   "cell_type": "code",
   "execution_count": 49,
   "id": "3a601793",
   "metadata": {},
   "outputs": [
    {
     "data": {
      "text/plain": [
       "(100, 5511485, 'sn@gmail.com')"
      ]
     },
     "execution_count": 49,
     "metadata": {},
     "output_type": "execute_result"
    }
   ],
   "source": [
    "sonu.return_st_details()"
   ]
  },
  {
   "cell_type": "code",
   "execution_count": 50,
   "id": "f1bce61a",
   "metadata": {},
   "outputs": [
    {
     "data": {
      "text/plain": [
       "5511485"
      ]
     },
     "execution_count": 50,
     "metadata": {},
     "output_type": "execute_result"
    }
   ],
   "source": [
    "sonu.phone_no2"
   ]
  },
  {
   "cell_type": "code",
   "execution_count": null,
   "id": "70ee283f",
   "metadata": {},
   "outputs": [],
   "source": []
  }
 ],
 "metadata": {
  "kernelspec": {
   "display_name": "Python 3",
   "language": "python",
   "name": "python3"
  },
  "language_info": {
   "codemirror_mode": {
    "name": "ipython",
    "version": 3
   },
   "file_extension": ".py",
   "mimetype": "text/x-python",
   "name": "python",
   "nbconvert_exporter": "python",
   "pygments_lexer": "ipython3",
   "version": "3.12.4"
  }
 },
 "nbformat": 4,
 "nbformat_minor": 5
}
