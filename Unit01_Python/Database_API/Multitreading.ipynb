{
 "cells": [
  {
   "cell_type": "markdown",
   "id": "7b5da527",
   "metadata": {},
   "source": [
    "# Multithreading"
   ]
  },
  {
   "cell_type": "code",
   "execution_count": 1,
   "id": "0f5f7a3f",
   "metadata": {},
   "outputs": [],
   "source": [
    "import threading"
   ]
  },
  {
   "cell_type": "code",
   "execution_count": 5,
   "id": "ad59ee44",
   "metadata": {},
   "outputs": [],
   "source": [
    "def test(id):\n",
    "    print(\"Program start %d \"% id)"
   ]
  },
  {
   "cell_type": "code",
   "execution_count": 3,
   "id": "79d3a65f",
   "metadata": {},
   "outputs": [
    {
     "name": "stdout",
     "output_type": "stream",
     "text": [
      "Program start %d  45\n"
     ]
    }
   ],
   "source": [
    "test(45)"
   ]
  },
  {
   "cell_type": "code",
   "execution_count": null,
   "id": "4b2b6370",
   "metadata": {},
   "outputs": [],
   "source": [
    "threading.Thread(target)"
   ]
  }
 ],
 "metadata": {
  "kernelspec": {
   "display_name": "Python 3",
   "language": "python",
   "name": "python3"
  },
  "language_info": {
   "codemirror_mode": {
    "name": "ipython",
    "version": 3
   },
   "file_extension": ".py",
   "mimetype": "text/x-python",
   "name": "python",
   "nbconvert_exporter": "python",
   "pygments_lexer": "ipython3",
   "version": "3.12.4"
  }
 },
 "nbformat": 4,
 "nbformat_minor": 5
}
