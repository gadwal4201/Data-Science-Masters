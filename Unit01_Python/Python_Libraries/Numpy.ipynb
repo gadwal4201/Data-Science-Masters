{
 "cells": [
  {
   "cell_type": "markdown",
   "id": "12a80f07",
   "metadata": {},
   "source": [
    "# Numpy"
   ]
  },
  {
   "cell_type": "code",
   "execution_count": 41,
   "id": "e3b4f502",
   "metadata": {},
   "outputs": [],
   "source": [
    "import numpy as np"
   ]
  },
  {
   "cell_type": "code",
   "execution_count": 42,
   "id": "dbd62c3d",
   "metadata": {},
   "outputs": [],
   "source": [
    "l = [1, 2, 3, 4, 5, 6, 7, 8, 9, 10]\n",
    "arr = np.array(l)"
   ]
  },
  {
   "cell_type": "code",
   "execution_count": 43,
   "id": "b7963837",
   "metadata": {},
   "outputs": [
    {
     "data": {
      "text/plain": [
       "numpy.ndarray"
      ]
     },
     "execution_count": 43,
     "metadata": {},
     "output_type": "execute_result"
    }
   ],
   "source": [
    "type(arr)"
   ]
  },
  {
   "cell_type": "code",
   "execution_count": 44,
   "id": "c7c9fd5e",
   "metadata": {},
   "outputs": [
    {
     "data": {
      "text/plain": [
       "array([ 1,  2,  3,  4,  5,  6,  7,  8,  9, 10])"
      ]
     },
     "execution_count": 44,
     "metadata": {},
     "output_type": "execute_result"
    }
   ],
   "source": [
    "np.asarray(l)"
   ]
  },
  {
   "cell_type": "code",
   "execution_count": 45,
   "id": "4d372305",
   "metadata": {},
   "outputs": [
    {
     "data": {
      "text/plain": [
       "array([ 1,  2,  3,  4,  5,  6,  7,  8,  9, 10])"
      ]
     },
     "execution_count": 45,
     "metadata": {},
     "output_type": "execute_result"
    }
   ],
   "source": [
    "np.asanyarray(l)"
   ]
  },
  {
   "cell_type": "code",
   "execution_count": 46,
   "id": "713bf642",
   "metadata": {},
   "outputs": [],
   "source": [
    "b = np.matrix(l)"
   ]
  },
  {
   "cell_type": "code",
   "execution_count": 47,
   "id": "a47e5fc7",
   "metadata": {},
   "outputs": [
    {
     "data": {
      "text/plain": [
       "matrix([[ 1,  2,  3,  4,  5,  6,  7,  8,  9, 10]])"
      ]
     },
     "execution_count": 47,
     "metadata": {},
     "output_type": "execute_result"
    }
   ],
   "source": [
    "b"
   ]
  },
  {
   "cell_type": "code",
   "execution_count": 48,
   "id": "1413c155",
   "metadata": {},
   "outputs": [
    {
     "data": {
      "text/plain": [
       "matrix([[ 1,  2,  3,  4,  5,  6,  7,  8,  9, 10]])"
      ]
     },
     "execution_count": 48,
     "metadata": {},
     "output_type": "execute_result"
    }
   ],
   "source": [
    "np.asanyarray(b)"
   ]
  },
  {
   "cell_type": "code",
   "execution_count": 49,
   "id": "800ad43b",
   "metadata": {},
   "outputs": [],
   "source": [
    "a = np.array(l)"
   ]
  },
  {
   "cell_type": "code",
   "execution_count": 50,
   "id": "f9864a02",
   "metadata": {},
   "outputs": [],
   "source": [
    "c=a"
   ]
  },
  {
   "cell_type": "code",
   "execution_count": 51,
   "id": "fe571826",
   "metadata": {},
   "outputs": [],
   "source": [
    "a[0]=200"
   ]
  },
  {
   "cell_type": "code",
   "execution_count": 52,
   "id": "9795f070",
   "metadata": {},
   "outputs": [
    {
     "data": {
      "text/plain": [
       "array([200,   2,   3,   4,   5,   6,   7,   8,   9,  10])"
      ]
     },
     "execution_count": 52,
     "metadata": {},
     "output_type": "execute_result"
    }
   ],
   "source": [
    "a"
   ]
  },
  {
   "cell_type": "code",
   "execution_count": 53,
   "id": "0560d885",
   "metadata": {},
   "outputs": [
    {
     "data": {
      "text/plain": [
       "array([200,   2,   3,   4,   5,   6,   7,   8,   9,  10])"
      ]
     },
     "execution_count": 53,
     "metadata": {},
     "output_type": "execute_result"
    }
   ],
   "source": [
    "c"
   ]
  },
  {
   "cell_type": "code",
   "execution_count": 54,
   "id": "6aeb843b",
   "metadata": {},
   "outputs": [],
   "source": [
    "c[0]=100"
   ]
  },
  {
   "cell_type": "code",
   "execution_count": 55,
   "id": "52f05bb5",
   "metadata": {},
   "outputs": [
    {
     "data": {
      "text/plain": [
       "array([100,   2,   3,   4,   5,   6,   7,   8,   9,  10])"
      ]
     },
     "execution_count": 55,
     "metadata": {},
     "output_type": "execute_result"
    }
   ],
   "source": [
    "c"
   ]
  },
  {
   "cell_type": "code",
   "execution_count": 56,
   "id": "6b9345ed",
   "metadata": {},
   "outputs": [
    {
     "data": {
      "text/plain": [
       "array([100,   2,   3,   4,   5,   6,   7,   8,   9,  10])"
      ]
     },
     "execution_count": 56,
     "metadata": {},
     "output_type": "execute_result"
    }
   ],
   "source": [
    "a"
   ]
  },
  {
   "cell_type": "code",
   "execution_count": 57,
   "id": "ffed5352",
   "metadata": {},
   "outputs": [],
   "source": [
    "d = np.copy(a)"
   ]
  },
  {
   "cell_type": "code",
   "execution_count": 58,
   "id": "3d5b4f61",
   "metadata": {},
   "outputs": [
    {
     "data": {
      "text/plain": [
       "array([100,   2,   3,   4,   5,   6,   7,   8,   9,  10])"
      ]
     },
     "execution_count": 58,
     "metadata": {},
     "output_type": "execute_result"
    }
   ],
   "source": [
    "d"
   ]
  },
  {
   "cell_type": "code",
   "execution_count": 59,
   "id": "2d197080",
   "metadata": {},
   "outputs": [
    {
     "data": {
      "text/plain": [
       "array([100,   2,   3,   4,   5,   6,   7,   8,   9,  10])"
      ]
     },
     "execution_count": 59,
     "metadata": {},
     "output_type": "execute_result"
    }
   ],
   "source": [
    "a"
   ]
  },
  {
   "cell_type": "code",
   "execution_count": 60,
   "id": "150f9b43",
   "metadata": {},
   "outputs": [],
   "source": [
    "a[1]=300"
   ]
  },
  {
   "cell_type": "code",
   "execution_count": 61,
   "id": "63d00148",
   "metadata": {},
   "outputs": [
    {
     "data": {
      "text/plain": [
       "array([100, 300,   3,   4,   5,   6,   7,   8,   9,  10])"
      ]
     },
     "execution_count": 61,
     "metadata": {},
     "output_type": "execute_result"
    }
   ],
   "source": [
    "a"
   ]
  },
  {
   "cell_type": "code",
   "execution_count": 62,
   "id": "8c1f3e75",
   "metadata": {},
   "outputs": [
    {
     "data": {
      "text/plain": [
       "array([100,   2,   3,   4,   5,   6,   7,   8,   9,  10])"
      ]
     },
     "execution_count": 62,
     "metadata": {},
     "output_type": "execute_result"
    }
   ],
   "source": [
    "d"
   ]
  },
  {
   "cell_type": "code",
   "execution_count": 63,
   "id": "5fd6f312",
   "metadata": {},
   "outputs": [
    {
     "data": {
      "text/plain": [
       "array([[ True, False, False],\n",
       "       [False,  True, False],\n",
       "       [False, False,  True]])"
      ]
     },
     "execution_count": 63,
     "metadata": {},
     "output_type": "execute_result"
    }
   ],
   "source": [
    "np.fromfunction(lambda i,j:i==j, (3, 3))"
   ]
  },
  {
   "cell_type": "code",
   "execution_count": 64,
   "id": "a5f85b61",
   "metadata": {},
   "outputs": [
    {
     "data": {
      "text/plain": [
       "array([[0., 0., 0.],\n",
       "       [0., 1., 2.],\n",
       "       [0., 2., 4.]])"
      ]
     },
     "execution_count": 64,
     "metadata": {},
     "output_type": "execute_result"
    }
   ],
   "source": [
    "np.fromfunction(lambda i,j:i*j, (3, 3))\n"
   ]
  },
  {
   "cell_type": "code",
   "execution_count": 65,
   "id": "b3980b83",
   "metadata": {},
   "outputs": [],
   "source": [
    "iterable = (i*i for i in range(5))"
   ]
  },
  {
   "cell_type": "code",
   "execution_count": 66,
   "id": "2598ad9a",
   "metadata": {},
   "outputs": [
    {
     "data": {
      "text/plain": [
       "array([ 0.,  1.,  4.,  9., 16.])"
      ]
     },
     "execution_count": 66,
     "metadata": {},
     "output_type": "execute_result"
    }
   ],
   "source": [
    "np.fromiter(iterable,float)\n"
   ]
  },
  {
   "cell_type": "code",
   "execution_count": 67,
   "id": "92368322",
   "metadata": {},
   "outputs": [
    {
     "data": {
      "text/plain": [
       "array([1., 2., 3., 4., 5.])"
      ]
     },
     "execution_count": 67,
     "metadata": {},
     "output_type": "execute_result"
    }
   ],
   "source": [
    "np.fromstring('1 2 3 4 5', dtype=float, sep=' ')"
   ]
  },
  {
   "cell_type": "code",
   "execution_count": 68,
   "id": "6a9471ca",
   "metadata": {},
   "outputs": [
    {
     "data": {
      "text/plain": [
       "array([4., 5.])"
      ]
     },
     "execution_count": 68,
     "metadata": {},
     "output_type": "execute_result"
    }
   ],
   "source": [
    "np.fromstring('4,5', sep=',')"
   ]
  },
  {
   "cell_type": "code",
   "execution_count": 69,
   "id": "ac2e85e6",
   "metadata": {},
   "outputs": [
    {
     "data": {
      "text/plain": [
       "array([4., 5.])"
      ]
     },
     "execution_count": 69,
     "metadata": {},
     "output_type": "execute_result"
    }
   ],
   "source": [
    "np.fromstring(\"4'5\", sep=\"'\")"
   ]
  },
  {
   "cell_type": "code",
   "execution_count": 70,
   "id": "1df9bf76",
   "metadata": {},
   "outputs": [
    {
     "data": {
      "text/plain": [
       "array([4., 5.])"
      ]
     },
     "execution_count": 70,
     "metadata": {},
     "output_type": "execute_result"
    }
   ],
   "source": [
    "np.fromstring('4\"5', sep='\"')"
   ]
  },
  {
   "cell_type": "code",
   "execution_count": null,
   "id": "7d453279",
   "metadata": {},
   "outputs": [],
   "source": []
  },
  {
   "cell_type": "code",
   "execution_count": 71,
   "id": "5950b321",
   "metadata": {},
   "outputs": [
    {
     "data": {
      "text/plain": [
       "1"
      ]
     },
     "execution_count": 71,
     "metadata": {},
     "output_type": "execute_result"
    }
   ],
   "source": [
    "arr.ndim"
   ]
  },
  {
   "cell_type": "code",
   "execution_count": 72,
   "id": "cdc40181",
   "metadata": {},
   "outputs": [
    {
     "data": {
      "text/plain": [
       "2"
      ]
     },
     "execution_count": 72,
     "metadata": {},
     "output_type": "execute_result"
    }
   ],
   "source": [
    "arr2 = np.array([[1, 2, 3], [4, 5, 6]])\n",
    "arr2.ndim"
   ]
  },
  {
   "cell_type": "code",
   "execution_count": 73,
   "id": "acf2888d",
   "metadata": {},
   "outputs": [
    {
     "data": {
      "text/plain": [
       "6"
      ]
     },
     "execution_count": 73,
     "metadata": {},
     "output_type": "execute_result"
    }
   ],
   "source": [
    "arr2.size"
   ]
  },
  {
   "cell_type": "code",
   "execution_count": 74,
   "id": "71d7389d",
   "metadata": {},
   "outputs": [
    {
     "data": {
      "text/plain": [
       "(2, 3)"
      ]
     },
     "execution_count": 74,
     "metadata": {},
     "output_type": "execute_result"
    }
   ],
   "source": [
    "arr2.shape"
   ]
  },
  {
   "cell_type": "code",
   "execution_count": 75,
   "id": "2f18f0e3",
   "metadata": {},
   "outputs": [
    {
     "data": {
      "text/plain": [
       "dtype('int32')"
      ]
     },
     "execution_count": 75,
     "metadata": {},
     "output_type": "execute_result"
    }
   ],
   "source": [
    "arr2.dtype"
   ]
  },
  {
   "cell_type": "code",
   "execution_count": 76,
   "id": "153753e5",
   "metadata": {},
   "outputs": [],
   "source": [
    "arr3 = np.array([(1, 2.2, 3), (4, 5, 6)])"
   ]
  },
  {
   "cell_type": "code",
   "execution_count": 77,
   "id": "ea194776",
   "metadata": {},
   "outputs": [
    {
     "data": {
      "text/plain": [
       "dtype('float64')"
      ]
     },
     "execution_count": 77,
     "metadata": {},
     "output_type": "execute_result"
    }
   ],
   "source": [
    "arr3.dtype"
   ]
  },
  {
   "cell_type": "code",
   "execution_count": 78,
   "id": "327a7007",
   "metadata": {},
   "outputs": [
    {
     "data": {
      "text/plain": [
       "range(0, 5)"
      ]
     },
     "execution_count": 78,
     "metadata": {},
     "output_type": "execute_result"
    }
   ],
   "source": [
    "range(5)"
   ]
  },
  {
   "cell_type": "code",
   "execution_count": 79,
   "id": "1616c66e",
   "metadata": {},
   "outputs": [
    {
     "data": {
      "text/plain": [
       "[0, 1, 2, 3, 4]"
      ]
     },
     "execution_count": 79,
     "metadata": {},
     "output_type": "execute_result"
    }
   ],
   "source": [
    "list(range(5))  # Range takes integer always not float"
   ]
  },
  {
   "cell_type": "code",
   "execution_count": 80,
   "id": "310041eb",
   "metadata": {},
   "outputs": [],
   "source": [
    "# list(range(0.1,5))"
   ]
  },
  {
   "cell_type": "code",
   "execution_count": 81,
   "id": "43e5d79f",
   "metadata": {},
   "outputs": [
    {
     "data": {
      "text/plain": [
       "array([0.2, 1.2, 2.2, 3.2, 4.2])"
      ]
     },
     "execution_count": 81,
     "metadata": {},
     "output_type": "execute_result"
    }
   ],
   "source": [
    "np.arange(0.2,5)"
   ]
  },
  {
   "cell_type": "code",
   "execution_count": 82,
   "id": "b40b2ee3",
   "metadata": {},
   "outputs": [
    {
     "data": {
      "text/plain": [
       "[2.2,\n",
       " 2.5,\n",
       " 2.8,\n",
       " 3.0999999999999996,\n",
       " 3.3999999999999995,\n",
       " 3.6999999999999993,\n",
       " 3.999999999999999,\n",
       " 4.299999999999999,\n",
       " 4.599999999999999,\n",
       " 4.899999999999999,\n",
       " 5.199999999999998,\n",
       " 5.499999999999998,\n",
       " 5.799999999999998]"
      ]
     },
     "execution_count": 82,
     "metadata": {},
     "output_type": "execute_result"
    }
   ],
   "source": [
    "list(np.arange(2.2,6,0.3))"
   ]
  },
  {
   "cell_type": "code",
   "execution_count": 83,
   "id": "18e1e76d",
   "metadata": {},
   "outputs": [
    {
     "data": {
      "text/plain": [
       "array([ 0. ,  2.5,  5. ,  7.5, 10. ])"
      ]
     },
     "execution_count": 83,
     "metadata": {},
     "output_type": "execute_result"
    }
   ],
   "source": [
    "np.linspace(0, 10, 5)  # Start, Stop, Number of points"
   ]
  },
  {
   "cell_type": "code",
   "execution_count": 84,
   "id": "4c372edd",
   "metadata": {},
   "outputs": [
    {
     "data": {
      "text/plain": [
       "array([[0., 0., 0.],\n",
       "       [0., 0., 0.]])"
      ]
     },
     "execution_count": 84,
     "metadata": {},
     "output_type": "execute_result"
    }
   ],
   "source": [
    "np.zeros((2, 3))  # Shape of the array"
   ]
  },
  {
   "cell_type": "code",
   "execution_count": 85,
   "id": "0d57c856",
   "metadata": {},
   "outputs": [
    {
     "data": {
      "text/plain": [
       "array([[[0., 0.],\n",
       "        [0., 0.],\n",
       "        [0., 0.],\n",
       "        [0., 0.]],\n",
       "\n",
       "       [[0., 0.],\n",
       "        [0., 0.],\n",
       "        [0., 0.],\n",
       "        [0., 0.]],\n",
       "\n",
       "       [[0., 0.],\n",
       "        [0., 0.],\n",
       "        [0., 0.],\n",
       "        [0., 0.]]])"
      ]
     },
     "execution_count": 85,
     "metadata": {},
     "output_type": "execute_result"
    }
   ],
   "source": [
    "np.zeros((3,4,2))"
   ]
  },
  {
   "cell_type": "code",
   "execution_count": 86,
   "id": "7924b0a8",
   "metadata": {},
   "outputs": [],
   "source": [
    "arr4 = np.zeros((3,4,2,5))"
   ]
  },
  {
   "cell_type": "code",
   "execution_count": 87,
   "id": "155340fd",
   "metadata": {},
   "outputs": [
    {
     "data": {
      "text/plain": [
       "4"
      ]
     },
     "execution_count": 87,
     "metadata": {},
     "output_type": "execute_result"
    }
   ],
   "source": [
    "arr4.ndim"
   ]
  },
  {
   "cell_type": "code",
   "execution_count": 88,
   "id": "45f6e76b",
   "metadata": {},
   "outputs": [
    {
     "data": {
      "text/plain": [
       "array([1., 1., 1., 1.])"
      ]
     },
     "execution_count": 88,
     "metadata": {},
     "output_type": "execute_result"
    }
   ],
   "source": [
    "np.ones(4)"
   ]
  },
  {
   "cell_type": "code",
   "execution_count": 89,
   "id": "f02edf52",
   "metadata": {},
   "outputs": [],
   "source": [
    "on = np.ones((2, 3))  # Shape of the array"
   ]
  },
  {
   "cell_type": "code",
   "execution_count": 90,
   "id": "b2aafc0b",
   "metadata": {},
   "outputs": [
    {
     "data": {
      "text/plain": [
       "array([[1., 1., 1.],\n",
       "       [1., 1., 1.]])"
      ]
     },
     "execution_count": 90,
     "metadata": {},
     "output_type": "execute_result"
    }
   ],
   "source": [
    "on"
   ]
  },
  {
   "cell_type": "code",
   "execution_count": 91,
   "id": "a4c4d11a",
   "metadata": {},
   "outputs": [
    {
     "data": {
      "text/plain": [
       "array([[6., 6., 6.],\n",
       "       [6., 6., 6.]])"
      ]
     },
     "execution_count": 91,
     "metadata": {},
     "output_type": "execute_result"
    }
   ],
   "source": [
    "on + 5"
   ]
  },
  {
   "cell_type": "code",
   "execution_count": 93,
   "id": "ee521296",
   "metadata": {},
   "outputs": [
    {
     "data": {
      "text/plain": [
       "array([[4., 4., 4.],\n",
       "       [4., 4., 4.]])"
      ]
     },
     "execution_count": 93,
     "metadata": {},
     "output_type": "execute_result"
    }
   ],
   "source": [
    "on * 4  "
   ]
  },
  {
   "cell_type": "code",
   "execution_count": 96,
   "id": "6151888b",
   "metadata": {},
   "outputs": [
    {
     "data": {
      "text/plain": [
       "array([[1.01809512e-311, 1.01809512e-311, 1.01809512e-311,\n",
       "        1.24610723e-306, 1.89146896e-307, 7.56571288e-307],\n",
       "       [3.11525958e-307, 1.24610723e-306, 1.29061142e-306,\n",
       "        7.56606597e-307, 6.23057349e-307, 1.20160711e-306]])"
      ]
     },
     "execution_count": 96,
     "metadata": {},
     "output_type": "execute_result"
    }
   ],
   "source": [
    "np.empty((2, 6))  # Shape of the array"
   ]
  },
  {
   "cell_type": "code",
   "execution_count": 97,
   "id": "5edb4b13",
   "metadata": {},
   "outputs": [
    {
     "data": {
      "text/plain": [
       "array([[1., 0., 0.],\n",
       "       [0., 1., 0.],\n",
       "       [0., 0., 1.]])"
      ]
     },
     "execution_count": 97,
     "metadata": {},
     "output_type": "execute_result"
    }
   ],
   "source": [
    "np.eye(3)  # Identity matrix"
   ]
  },
  {
   "cell_type": "code",
   "execution_count": 99,
   "id": "56bb68d7",
   "metadata": {},
   "outputs": [
    {
     "data": {
      "text/plain": [
       "array([ 0.        ,  0.20408163,  0.40816327,  0.6122449 ,  0.81632653,\n",
       "        1.02040816,  1.2244898 ,  1.42857143,  1.63265306,  1.83673469,\n",
       "        2.04081633,  2.24489796,  2.44897959,  2.65306122,  2.85714286,\n",
       "        3.06122449,  3.26530612,  3.46938776,  3.67346939,  3.87755102,\n",
       "        4.08163265,  4.28571429,  4.48979592,  4.69387755,  4.89795918,\n",
       "        5.10204082,  5.30612245,  5.51020408,  5.71428571,  5.91836735,\n",
       "        6.12244898,  6.32653061,  6.53061224,  6.73469388,  6.93877551,\n",
       "        7.14285714,  7.34693878,  7.55102041,  7.75510204,  7.95918367,\n",
       "        8.16326531,  8.36734694,  8.57142857,  8.7755102 ,  8.97959184,\n",
       "        9.18367347,  9.3877551 ,  9.59183673,  9.79591837, 10.        ])"
      ]
     },
     "execution_count": 99,
     "metadata": {},
     "output_type": "execute_result"
    }
   ],
   "source": [
    "np.linspace(0, 10, 50)  # Start, Stop, Number of points"
   ]
  },
  {
   "cell_type": "code",
   "execution_count": 100,
   "id": "7320cad5",
   "metadata": {},
   "outputs": [
    {
     "data": {
      "text/plain": [
       "array([1.00000000e+00, 1.59985872e+00, 2.55954792e+00, 4.09491506e+00,\n",
       "       6.55128557e+00, 1.04811313e+01, 1.67683294e+01, 2.68269580e+01,\n",
       "       4.29193426e+01, 6.86648845e+01, 1.09854114e+02, 1.75751062e+02,\n",
       "       2.81176870e+02, 4.49843267e+02, 7.19685673e+02, 1.15139540e+03,\n",
       "       1.84206997e+03, 2.94705170e+03, 4.71486636e+03, 7.54312006e+03,\n",
       "       1.20679264e+04, 1.93069773e+04, 3.08884360e+04, 4.94171336e+04,\n",
       "       7.90604321e+04, 1.26485522e+05, 2.02358965e+05, 3.23745754e+05,\n",
       "       5.17947468e+05, 8.28642773e+05, 1.32571137e+06, 2.12095089e+06,\n",
       "       3.39322177e+06, 5.42867544e+06, 8.68511374e+06, 1.38949549e+07,\n",
       "       2.22299648e+07, 3.55648031e+07, 5.68986603e+07, 9.10298178e+07,\n",
       "       1.45634848e+08, 2.32995181e+08, 3.72759372e+08, 5.96362332e+08,\n",
       "       9.54095476e+08, 1.52641797e+09, 2.44205309e+09, 3.90693994e+09,\n",
       "       6.25055193e+09, 1.00000000e+10])"
      ]
     },
     "execution_count": 100,
     "metadata": {},
     "output_type": "execute_result"
    }
   ],
   "source": [
    "np.logspace(0, 10, 50)  # Start, Stop, Number of points"
   ]
  },
  {
   "cell_type": "code",
   "execution_count": 101,
   "id": "ef70de76",
   "metadata": {},
   "outputs": [
    {
     "data": {
      "text/plain": [
       "array([1.00000000e+00, 1.15195282e+00, 1.32699530e+00, 1.52863599e+00,\n",
       "       1.76091654e+00, 2.02849277e+00, 2.33672798e+00, 2.69180039e+00,\n",
       "       3.10082705e+00, 3.57200647e+00, 4.11478293e+00, 4.74003581e+00,\n",
       "       5.46029763e+00, 6.29000526e+00, 7.24578931e+00, 8.34680745e+00,\n",
       "       9.61512839e+00, 1.10761743e+01, 1.27592302e+01, 1.46980313e+01,\n",
       "       1.69314386e+01, 1.95042185e+01, 2.24679395e+01, 2.58820063e+01,\n",
       "       2.98148502e+01, 3.43453008e+01, 3.95641662e+01, 4.55760529e+01,\n",
       "       5.25014628e+01, 6.04792082e+01, 6.96691946e+01, 8.02556253e+01,\n",
       "       9.24506940e+01, 1.06498838e+02, 1.22681637e+02, 1.41323458e+02,\n",
       "       1.62797956e+02, 1.87535565e+02, 2.16032123e+02, 2.48858814e+02,\n",
       "       2.86673613e+02, 3.30234477e+02, 3.80414538e+02, 4.38219601e+02,\n",
       "       5.04808306e+02, 5.81515352e+02, 6.69878251e+02, 7.71668141e+02,\n",
       "       8.88925293e+02, 1.02400000e+03])"
      ]
     },
     "execution_count": 101,
     "metadata": {},
     "output_type": "execute_result"
    }
   ],
   "source": [
    "np.logspace(0, 10, 50,base=2)  # Start, Stop, Number of points"
   ]
  },
  {
   "cell_type": "code",
   "execution_count": 104,
   "id": "32f18122",
   "metadata": {},
   "outputs": [],
   "source": [
    "ar = np.random.rand(2, 3)  # Random numbers in the range [0, 1)"
   ]
  },
  {
   "cell_type": "code",
   "execution_count": 105,
   "id": "ee00e9f3",
   "metadata": {},
   "outputs": [
    {
     "data": {
      "text/plain": [
       "array([[0.53262563, 0.40238672, 0.99612632],\n",
       "       [0.19402684, 0.37404665, 0.23423516]])"
      ]
     },
     "execution_count": 105,
     "metadata": {},
     "output_type": "execute_result"
    }
   ],
   "source": [
    "ar"
   ]
  },
  {
   "cell_type": "code",
   "execution_count": 103,
   "id": "5dfb328e",
   "metadata": {},
   "outputs": [],
   "source": [
    "import pandas as pd"
   ]
  },
  {
   "cell_type": "code",
   "execution_count": 106,
   "id": "f09ac0ef",
   "metadata": {},
   "outputs": [
    {
     "data": {
      "text/html": [
       "<div>\n",
       "<style scoped>\n",
       "    .dataframe tbody tr th:only-of-type {\n",
       "        vertical-align: middle;\n",
       "    }\n",
       "\n",
       "    .dataframe tbody tr th {\n",
       "        vertical-align: top;\n",
       "    }\n",
       "\n",
       "    .dataframe thead th {\n",
       "        text-align: right;\n",
       "    }\n",
       "</style>\n",
       "<table border=\"1\" class=\"dataframe\">\n",
       "  <thead>\n",
       "    <tr style=\"text-align: right;\">\n",
       "      <th></th>\n",
       "      <th>0</th>\n",
       "      <th>1</th>\n",
       "      <th>2</th>\n",
       "    </tr>\n",
       "  </thead>\n",
       "  <tbody>\n",
       "    <tr>\n",
       "      <th>0</th>\n",
       "      <td>0.532626</td>\n",
       "      <td>0.402387</td>\n",
       "      <td>0.996126</td>\n",
       "    </tr>\n",
       "    <tr>\n",
       "      <th>1</th>\n",
       "      <td>0.194027</td>\n",
       "      <td>0.374047</td>\n",
       "      <td>0.234235</td>\n",
       "    </tr>\n",
       "  </tbody>\n",
       "</table>\n",
       "</div>"
      ],
      "text/plain": [
       "          0         1         2\n",
       "0  0.532626  0.402387  0.996126\n",
       "1  0.194027  0.374047  0.234235"
      ]
     },
     "execution_count": 106,
     "metadata": {},
     "output_type": "execute_result"
    }
   ],
   "source": [
    "pd.DataFrame(ar)"
   ]
  },
  {
   "cell_type": "code",
   "execution_count": 107,
   "id": "bd1ab7d1",
   "metadata": {},
   "outputs": [
    {
     "data": {
      "text/plain": [
       "array([[-0.39990577,  1.89112266,  0.7329272 ],\n",
       "       [ 1.1596504 ,  2.34520402,  0.93708294]])"
      ]
     },
     "execution_count": 107,
     "metadata": {},
     "output_type": "execute_result"
    }
   ],
   "source": [
    "np.random.randn(2, 3)  # Random numbers from a standard normal distribution (mean=0, std=1)"
   ]
  },
  {
   "cell_type": "code",
   "execution_count": 108,
   "id": "6765eb63",
   "metadata": {},
   "outputs": [
    {
     "data": {
      "text/plain": [
       "array([[6, 2, 4],\n",
       "       [0, 4, 9]])"
      ]
     },
     "execution_count": 108,
     "metadata": {},
     "output_type": "execute_result"
    }
   ],
   "source": [
    "np.random.randint(0,10,(2,3))  # Random integers from 0 to 10, shape (2, 3)"
   ]
  },
  {
   "cell_type": "code",
   "execution_count": 111,
   "id": "75e59ad8",
   "metadata": {},
   "outputs": [],
   "source": [
    "pd.DataFrame(np.random.randint(1,100,(20,30))).to_csv(\"test.csv\")  # Random integers from 1 to 100, shape (2, 3)"
   ]
  },
  {
   "cell_type": "code",
   "execution_count": 120,
   "id": "bb9b271f",
   "metadata": {},
   "outputs": [],
   "source": [
    "arr1 = np.random.rand(6, 3)  # Random numbers in the range [0, 1)"
   ]
  },
  {
   "cell_type": "code",
   "execution_count": 121,
   "id": "da853d78",
   "metadata": {},
   "outputs": [
    {
     "data": {
      "text/plain": [
       "array([[0.91643403, 0.54453188, 0.20292142],\n",
       "       [0.94937371, 0.53148684, 0.20581823],\n",
       "       [0.26245404, 0.25940473, 0.30642839],\n",
       "       [0.27697736, 0.65410091, 0.20370842],\n",
       "       [0.37885835, 0.96627726, 0.54794148],\n",
       "       [0.62101766, 0.84654792, 0.01991778]])"
      ]
     },
     "execution_count": 121,
     "metadata": {},
     "output_type": "execute_result"
    }
   ],
   "source": [
    "arr1"
   ]
  },
  {
   "cell_type": "code",
   "execution_count": 126,
   "id": "b4df718c",
   "metadata": {},
   "outputs": [],
   "source": [
    "arr2 = arr1.reshape(9, 2)  # Reshape the array to shape (3, 2)"
   ]
  },
  {
   "cell_type": "code",
   "execution_count": 127,
   "id": "ff6e46b4",
   "metadata": {},
   "outputs": [
    {
     "data": {
      "text/plain": [
       "array([[0.91643403, 0.54453188],\n",
       "       [0.20292142, 0.94937371],\n",
       "       [0.53148684, 0.20581823],\n",
       "       [0.26245404, 0.25940473],\n",
       "       [0.30642839, 0.27697736],\n",
       "       [0.65410091, 0.20370842],\n",
       "       [0.37885835, 0.96627726],\n",
       "       [0.54794148, 0.62101766],\n",
       "       [0.84654792, 0.01991778]])"
      ]
     },
     "execution_count": 127,
     "metadata": {},
     "output_type": "execute_result"
    }
   ],
   "source": [
    "arr2"
   ]
  },
  {
   "cell_type": "code",
   "execution_count": 129,
   "id": "e0df42b2",
   "metadata": {},
   "outputs": [
    {
     "data": {
      "text/plain": [
       "0.202921421546562"
      ]
     },
     "execution_count": 129,
     "metadata": {},
     "output_type": "execute_result"
    }
   ],
   "source": [
    "arr1[0][2]"
   ]
  },
  {
   "cell_type": "code",
   "execution_count": 134,
   "id": "799c7542",
   "metadata": {},
   "outputs": [
    {
     "data": {
      "text/plain": [
       "array([0.25940473, 0.27697736, 0.20370842])"
      ]
     },
     "execution_count": 134,
     "metadata": {},
     "output_type": "execute_result"
    }
   ],
   "source": [
    "arr2[3:6,1]"
   ]
  },
  {
   "cell_type": "code",
   "execution_count": 140,
   "id": "3f11126c",
   "metadata": {},
   "outputs": [
    {
     "data": {
      "text/plain": [
       "0.2594047333160896"
      ]
     },
     "execution_count": 140,
     "metadata": {},
     "output_type": "execute_result"
    }
   ],
   "source": [
    "arr2[3:6][0:2,1][0]"
   ]
  },
  {
   "cell_type": "code",
   "execution_count": 142,
   "id": "0845dc77",
   "metadata": {},
   "outputs": [],
   "source": [
    "arr = np.random.randint(1,100,(5,5))  # Random integers from 1 to 100, shape (5, 5)"
   ]
  },
  {
   "cell_type": "code",
   "execution_count": 143,
   "id": "0b17305e",
   "metadata": {},
   "outputs": [
    {
     "data": {
      "text/plain": [
       "array([[68, 85, 80, 22, 14],\n",
       "       [59, 34, 26, 16, 78],\n",
       "       [69, 47, 48, 42, 90],\n",
       "       [10, 43, 79, 49, 58],\n",
       "       [ 9, 56, 29,  2,  2]])"
      ]
     },
     "execution_count": 143,
     "metadata": {},
     "output_type": "execute_result"
    }
   ],
   "source": [
    "arr"
   ]
  },
  {
   "cell_type": "code",
   "execution_count": 145,
   "id": "1f7dc59c",
   "metadata": {},
   "outputs": [
    {
     "data": {
      "text/plain": [
       "array([68, 85, 80, 59, 78, 69, 90, 79, 58, 56])"
      ]
     },
     "execution_count": 145,
     "metadata": {},
     "output_type": "execute_result"
    }
   ],
   "source": [
    "arr[arr>50]"
   ]
  },
  {
   "cell_type": "code",
   "execution_count": 146,
   "id": "be5faf0c",
   "metadata": {},
   "outputs": [
    {
     "data": {
      "text/plain": [
       "array([[47, 48],\n",
       "       [43, 79]])"
      ]
     },
     "execution_count": 146,
     "metadata": {},
     "output_type": "execute_result"
    }
   ],
   "source": [
    "arr[2:4,1:3]"
   ]
  },
  {
   "cell_type": "code",
   "execution_count": 147,
   "id": "5a7a7ed5",
   "metadata": {},
   "outputs": [
    {
     "data": {
      "text/plain": [
       "array([[47, 48],\n",
       "       [43, 79]])"
      ]
     },
     "execution_count": 147,
     "metadata": {},
     "output_type": "execute_result"
    }
   ],
   "source": [
    "arr[2:4,[1,2]]"
   ]
  },
  {
   "cell_type": "code",
   "execution_count": 149,
   "id": "d2653e59",
   "metadata": {},
   "outputs": [],
   "source": [
    "arr[0][0]=200"
   ]
  },
  {
   "cell_type": "code",
   "execution_count": 150,
   "id": "4a47fb71",
   "metadata": {},
   "outputs": [
    {
     "data": {
      "text/plain": [
       "array([[200,  85,  80,  22,  14],\n",
       "       [ 59,  34,  26,  16,  78],\n",
       "       [ 69,  47,  48,  42,  90],\n",
       "       [ 10,  43,  79,  49,  58],\n",
       "       [  9,  56,  29,   2,   2]])"
      ]
     },
     "execution_count": 150,
     "metadata": {},
     "output_type": "execute_result"
    }
   ],
   "source": [
    "arr"
   ]
  },
  {
   "cell_type": "code",
   "execution_count": 151,
   "id": "0c8c700e",
   "metadata": {},
   "outputs": [],
   "source": [
    "ar1 = np.random.randint(1,100,(5,5))  # Random integers from 1 to 100, shape (5, 5)\n",
    "\n",
    "ar2 = np.random.randint(1,100,(5,5))  # Random integers from 1 to 100, shape (5, 5)"
   ]
  },
  {
   "cell_type": "code",
   "execution_count": 152,
   "id": "4223a70e",
   "metadata": {},
   "outputs": [
    {
     "data": {
      "text/plain": [
       "array([[49, 46, 29, 64, 40],\n",
       "       [70, 60, 53, 44, 90],\n",
       "       [73, 73, 34, 56, 31],\n",
       "       [55, 66, 98, 58, 78],\n",
       "       [18, 67, 56, 29, 85]])"
      ]
     },
     "execution_count": 152,
     "metadata": {},
     "output_type": "execute_result"
    }
   ],
   "source": [
    "ar1"
   ]
  },
  {
   "cell_type": "code",
   "execution_count": 153,
   "id": "2f9f3689",
   "metadata": {},
   "outputs": [
    {
     "data": {
      "text/plain": [
       "array([[67, 28, 53, 40, 49],\n",
       "       [ 4, 72, 99, 16, 47],\n",
       "       [40, 28, 87, 39, 62],\n",
       "       [16, 15, 83, 76, 83],\n",
       "       [28, 53,  2, 64, 62]])"
      ]
     },
     "execution_count": 153,
     "metadata": {},
     "output_type": "execute_result"
    }
   ],
   "source": [
    "ar2"
   ]
  },
  {
   "cell_type": "code",
   "execution_count": 155,
   "id": "d6efdc5a",
   "metadata": {},
   "outputs": [
    {
     "data": {
      "text/plain": [
       "array([[116,  74,  82, 104,  89],\n",
       "       [ 74, 132, 152,  60, 137],\n",
       "       [113, 101, 121,  95,  93],\n",
       "       [ 71,  81, 181, 134, 161],\n",
       "       [ 46, 120,  58,  93, 147]])"
      ]
     },
     "execution_count": 155,
     "metadata": {},
     "output_type": "execute_result"
    }
   ],
   "source": [
    "ar1 + ar2 # Element-wise addition"
   ]
  },
  {
   "cell_type": "code",
   "execution_count": 156,
   "id": "84bde254",
   "metadata": {},
   "outputs": [
    {
     "data": {
      "text/plain": [
       "array([[-18,  18, -24,  24,  -9],\n",
       "       [ 66, -12, -46,  28,  43],\n",
       "       [ 33,  45, -53,  17, -31],\n",
       "       [ 39,  51,  15, -18,  -5],\n",
       "       [-10,  14,  54, -35,  23]])"
      ]
     },
     "execution_count": 156,
     "metadata": {},
     "output_type": "execute_result"
    }
   ],
   "source": [
    "ar1 - ar2 # Element-wise subtraction"
   ]
  },
  {
   "cell_type": "code",
   "execution_count": 157,
   "id": "cc28832f",
   "metadata": {},
   "outputs": [
    {
     "data": {
      "text/plain": [
       "array([[ 0.73134328,  1.64285714,  0.54716981,  1.6       ,  0.81632653],\n",
       "       [17.5       ,  0.83333333,  0.53535354,  2.75      ,  1.91489362],\n",
       "       [ 1.825     ,  2.60714286,  0.3908046 ,  1.43589744,  0.5       ],\n",
       "       [ 3.4375    ,  4.4       ,  1.18072289,  0.76315789,  0.93975904],\n",
       "       [ 0.64285714,  1.26415094, 28.        ,  0.453125  ,  1.37096774]])"
      ]
     },
     "execution_count": 157,
     "metadata": {},
     "output_type": "execute_result"
    }
   ],
   "source": [
    "ar1/ ar2 # Element-wise division"
   ]
  },
  {
   "cell_type": "code",
   "execution_count": 158,
   "id": "eaf24ce2",
   "metadata": {},
   "outputs": [
    {
     "data": {
      "text/plain": [
       "array([[3283, 1288, 1537, 2560, 1960],\n",
       "       [ 280, 4320, 5247,  704, 4230],\n",
       "       [2920, 2044, 2958, 2184, 1922],\n",
       "       [ 880,  990, 8134, 4408, 6474],\n",
       "       [ 504, 3551,  112, 1856, 5270]])"
      ]
     },
     "execution_count": 158,
     "metadata": {},
     "output_type": "execute_result"
    }
   ],
   "source": [
    "ar1* ar2 # Element-wise multiplication"
   ]
  },
  {
   "cell_type": "code",
   "execution_count": 159,
   "id": "798c80f9",
   "metadata": {},
   "outputs": [
    {
     "data": {
      "text/plain": [
       "array([[ 6771,  8576, 15066, 11251, 14153],\n",
       "       [10274, 13194, 18093, 14931, 18768],\n",
       "       [ 8307, 10735, 18764, 11654, 15686],\n",
       "       [10981, 14040, 22945, 16478, 21523],\n",
       "       [ 6558, 11836, 15036, 11620, 15180]])"
      ]
     },
     "execution_count": 159,
     "metadata": {},
     "output_type": "execute_result"
    }
   ],
   "source": [
    "ar1 @ ar2  # Matrix multiplication"
   ]
  },
  {
   "cell_type": "code",
   "execution_count": 160,
   "id": "6615cb84",
   "metadata": {},
   "outputs": [
    {
     "name": "stderr",
     "output_type": "stream",
     "text": [
      "C:\\Users\\lalch\\AppData\\Local\\Temp\\ipykernel_380\\3042774750.py:1: RuntimeWarning: divide by zero encountered in divide\n",
      "  ar1/0\n"
     ]
    },
    {
     "data": {
      "text/plain": [
       "array([[inf, inf, inf, inf, inf],\n",
       "       [inf, inf, inf, inf, inf],\n",
       "       [inf, inf, inf, inf, inf],\n",
       "       [inf, inf, inf, inf, inf],\n",
       "       [inf, inf, inf, inf, inf]])"
      ]
     },
     "execution_count": 160,
     "metadata": {},
     "output_type": "execute_result"
    }
   ],
   "source": [
    "ar1/0"
   ]
  },
  {
   "cell_type": "code",
   "execution_count": 162,
   "id": "fe80bc0a",
   "metadata": {},
   "outputs": [
    {
     "data": {
      "text/plain": [
       "array([[49, 46, 29, 64, 40],\n",
       "       [70, 60, 53, 44, 90],\n",
       "       [73, 73, 34, 56, 31],\n",
       "       [55, 66, 98, 58, 78],\n",
       "       [18, 67, 56, 29, 85]])"
      ]
     },
     "execution_count": 162,
     "metadata": {},
     "output_type": "execute_result"
    }
   ],
   "source": [
    "ar1"
   ]
  },
  {
   "cell_type": "code",
   "execution_count": 161,
   "id": "ff2924d1",
   "metadata": {},
   "outputs": [
    {
     "data": {
      "text/plain": [
       "array([[149, 146, 129, 164, 140],\n",
       "       [170, 160, 153, 144, 190],\n",
       "       [173, 173, 134, 156, 131],\n",
       "       [155, 166, 198, 158, 178],\n",
       "       [118, 167, 156, 129, 185]])"
      ]
     },
     "execution_count": 161,
     "metadata": {},
     "output_type": "execute_result"
    }
   ],
   "source": [
    "ar1 + 100\n"
   ]
  },
  {
   "cell_type": "code",
   "execution_count": 163,
   "id": "6111d729",
   "metadata": {},
   "outputs": [
    {
     "data": {
      "text/plain": [
       "array([[2401, 2116,  841, 4096, 1600],\n",
       "       [4900, 3600, 2809, 1936, 8100],\n",
       "       [5329, 5329, 1156, 3136,  961],\n",
       "       [3025, 4356, 9604, 3364, 6084],\n",
       "       [ 324, 4489, 3136,  841, 7225]])"
      ]
     },
     "execution_count": 163,
     "metadata": {},
     "output_type": "execute_result"
    }
   ],
   "source": [
    "ar1**2"
   ]
  },
  {
   "cell_type": "code",
   "execution_count": 164,
   "id": "825be9a5",
   "metadata": {},
   "outputs": [],
   "source": [
    "a = np.zeros((3, 3))  # Create a 3x3 array of zeros"
   ]
  },
  {
   "cell_type": "code",
   "execution_count": 165,
   "id": "ba363fdf",
   "metadata": {},
   "outputs": [
    {
     "data": {
      "text/plain": [
       "array([[0., 0., 0.],\n",
       "       [0., 0., 0.],\n",
       "       [0., 0., 0.]])"
      ]
     },
     "execution_count": 165,
     "metadata": {},
     "output_type": "execute_result"
    }
   ],
   "source": [
    "a"
   ]
  },
  {
   "cell_type": "code",
   "execution_count": 166,
   "id": "7a910545",
   "metadata": {},
   "outputs": [],
   "source": [
    "row = np.array([1, 2, 3])  # Create a row vector"
   ]
  },
  {
   "cell_type": "code",
   "execution_count": 170,
   "id": "70ef5f6e",
   "metadata": {},
   "outputs": [
    {
     "data": {
      "text/plain": [
       "array([1, 2, 3])"
      ]
     },
     "execution_count": 170,
     "metadata": {},
     "output_type": "execute_result"
    }
   ],
   "source": [
    "row"
   ]
  },
  {
   "cell_type": "code",
   "execution_count": 167,
   "id": "fbb42bcf",
   "metadata": {},
   "outputs": [
    {
     "data": {
      "text/plain": [
       "array([[1., 2., 3.],\n",
       "       [1., 2., 3.],\n",
       "       [1., 2., 3.]])"
      ]
     },
     "execution_count": 167,
     "metadata": {},
     "output_type": "execute_result"
    }
   ],
   "source": [
    "a + row  # Broadcasting: adds the row vector to each row of the array"
   ]
  },
  {
   "cell_type": "code",
   "execution_count": 172,
   "id": "d49e7349",
   "metadata": {},
   "outputs": [
    {
     "data": {
      "text/plain": [
       "array([1, 2, 3])"
      ]
     },
     "execution_count": 172,
     "metadata": {},
     "output_type": "execute_result"
    }
   ],
   "source": [
    "row.T # Transpose the row vector to a column vector only when >1D"
   ]
  },
  {
   "cell_type": "code",
   "execution_count": 175,
   "id": "39e046bc",
   "metadata": {},
   "outputs": [],
   "source": [
    "col = np.array([[1,2,3]])  # Create a column vector"
   ]
  },
  {
   "cell_type": "code",
   "execution_count": 176,
   "id": "866cd49c",
   "metadata": {},
   "outputs": [
    {
     "data": {
      "text/plain": [
       "array([[1, 2, 3]])"
      ]
     },
     "execution_count": 176,
     "metadata": {},
     "output_type": "execute_result"
    }
   ],
   "source": [
    "col"
   ]
  },
  {
   "cell_type": "code",
   "execution_count": 178,
   "id": "38afbb5a",
   "metadata": {},
   "outputs": [
    {
     "data": {
      "text/plain": [
       "array([[1., 1., 1.],\n",
       "       [2., 2., 2.],\n",
       "       [3., 3., 3.]])"
      ]
     },
     "execution_count": 178,
     "metadata": {},
     "output_type": "execute_result"
    }
   ],
   "source": [
    "a + col.T  # Broadcasting: adds the column vector to each column of the array"
   ]
  },
  {
   "cell_type": "code",
   "execution_count": 182,
   "id": "be30d0ba",
   "metadata": {},
   "outputs": [
    {
     "data": {
      "text/plain": [
       "array([[0.72981205, 0.63433959, 0.99806128],\n",
       "       [0.44048478, 0.61159353, 0.48397848]])"
      ]
     },
     "execution_count": 182,
     "metadata": {},
     "output_type": "execute_result"
    }
   ],
   "source": [
    "np.sqrt(ar)     # Element-wise square root"
   ]
  },
  {
   "cell_type": "code",
   "execution_count": 181,
   "id": "63d959b4",
   "metadata": {},
   "outputs": [
    {
     "data": {
      "text/plain": [
       "array([[1.70339893, 1.49538951, 2.70777244],\n",
       "       [1.21412887, 1.45360495, 1.26394169]])"
      ]
     },
     "execution_count": 181,
     "metadata": {},
     "output_type": "execute_result"
    }
   ],
   "source": [
    "np.exp(ar)  # Element-wise exponential"
   ]
  },
  {
   "cell_type": "code",
   "execution_count": 183,
   "id": "76875eb4",
   "metadata": {},
   "outputs": [
    {
     "data": {
      "text/plain": [
       "array([[-0.27357794, -0.39535636, -0.00168558],\n",
       "       [-0.71213819, -0.42707424, -0.63034791]])"
      ]
     },
     "execution_count": 183,
     "metadata": {},
     "output_type": "execute_result"
    }
   ],
   "source": [
    "np.log10(ar)  # Element-wise logarithm base 10"
   ]
  },
  {
   "cell_type": "code",
   "execution_count": null,
   "id": "2ed6008d",
   "metadata": {},
   "outputs": [],
   "source": []
  }
 ],
 "metadata": {
  "kernelspec": {
   "display_name": "Python 3",
   "language": "python",
   "name": "python3"
  },
  "language_info": {
   "codemirror_mode": {
    "name": "ipython",
    "version": 3
   },
   "file_extension": ".py",
   "mimetype": "text/x-python",
   "name": "python",
   "nbconvert_exporter": "python",
   "pygments_lexer": "ipython3",
   "version": "3.12.4"
  }
 },
 "nbformat": 4,
 "nbformat_minor": 5
}
